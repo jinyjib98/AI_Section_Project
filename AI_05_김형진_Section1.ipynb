{
  "nbformat": 4,
  "nbformat_minor": 0,
  "metadata": {
    "colab": {
      "name": "AI_05_김형진_Section1.ipynb",
      "provenance": [],
      "collapsed_sections": [],
      "authorship_tag": "ABX9TyNr3FCbcA4LgccBjryI58rv",
      "include_colab_link": true
    },
    "kernelspec": {
      "name": "python3",
      "display_name": "Python 3"
    },
    "language_info": {
      "name": "python"
    }
  },
  "cells": [
    {
      "cell_type": "markdown",
      "metadata": {
        "id": "view-in-github",
        "colab_type": "text"
      },
      "source": [
        "<a href=\"https://colab.research.google.com/github/jinyjib98/AI_Sprint_Project/blob/main/AI_05_%EA%B9%80%ED%98%95%EC%A7%84_Section1.ipynb\" target=\"_parent\"><img src=\"https://colab.research.google.com/assets/colab-badge.svg\" alt=\"Open In Colab\"/></a>"
      ]
    },
    {
      "cell_type": "markdown",
      "metadata": {
        "id": "1uuMKhxarUiu"
      },
      "source": [
        "# Section Project\n",
        "\n",
        "### Goal of the Project\n",
        "> 다음 분기에 어떤 게임을 설계해야 할까\n",
        "\n",
        "### What we should get from data\n",
        "1. **지역**에 따라서 선호하는 **게임 장르**가 다른지\n",
        "2. **연도별** 게임의 **트렌드**가 있는지\n",
        "3. **출고량**이 많은 게임에 대한 분석 및 시각화 프로세스\n",
        "\n",
        "### Personal analysis\n",
        "1. 지역별 게임 산업의 크기\n",
        "2. 지역 내 장르별 경쟁 정도\n",
        "\n"
      ]
    },
    {
      "cell_type": "code",
      "metadata": {
        "id": "4wviMe7prCXk"
      },
      "source": [
        "import pandas as pd\n",
        "import numpy as np\n",
        "import seaborn as sns\n",
        "\n",
        "from scipy import stats"
      ],
      "execution_count": 1,
      "outputs": []
    },
    {
      "cell_type": "markdown",
      "metadata": {
        "id": "KZBkIPe9fIWO"
      },
      "source": [
        "### 전처리(pre-processing)"
      ]
    },
    {
      "cell_type": "code",
      "metadata": {
        "colab": {
          "base_uri": "https://localhost:8080/",
          "height": 496
        },
        "id": "W20PofSmu37L",
        "outputId": "3503a6a6-cb6e-4b3a-a8c0-28414e10624e"
      },
      "source": [
        "url = 'https://ds-lecture-data.s3.ap-northeast-2.amazonaws.com/datasets/vgames2.csv'\n",
        "\n",
        "\n",
        "\n",
        "# 데이터 불러오기\n",
        "df = pd.read_csv(url)\n",
        "df = df.drop('Unnamed: 0', axis=1)\n",
        "df.head()"
      ],
      "execution_count": 2,
      "outputs": [
        {
          "output_type": "execute_result",
          "data": {
            "text/html": [
              "<div>\n",
              "<style scoped>\n",
              "    .dataframe tbody tr th:only-of-type {\n",
              "        vertical-align: middle;\n",
              "    }\n",
              "\n",
              "    .dataframe tbody tr th {\n",
              "        vertical-align: top;\n",
              "    }\n",
              "\n",
              "    .dataframe thead th {\n",
              "        text-align: right;\n",
              "    }\n",
              "</style>\n",
              "<table border=\"1\" class=\"dataframe\">\n",
              "  <thead>\n",
              "    <tr style=\"text-align: right;\">\n",
              "      <th></th>\n",
              "      <th>Name</th>\n",
              "      <th>Platform</th>\n",
              "      <th>Year</th>\n",
              "      <th>Genre</th>\n",
              "      <th>Publisher</th>\n",
              "      <th>NA_Sales</th>\n",
              "      <th>EU_Sales</th>\n",
              "      <th>JP_Sales</th>\n",
              "      <th>Other_Sales</th>\n",
              "    </tr>\n",
              "  </thead>\n",
              "  <tbody>\n",
              "    <tr>\n",
              "      <th>0</th>\n",
              "      <td>Candace Kane's Candy Factory</td>\n",
              "      <td>DS</td>\n",
              "      <td>2008.0</td>\n",
              "      <td>Action</td>\n",
              "      <td>Destineer</td>\n",
              "      <td>0.04</td>\n",
              "      <td>0</td>\n",
              "      <td>0</td>\n",
              "      <td>0</td>\n",
              "    </tr>\n",
              "    <tr>\n",
              "      <th>1</th>\n",
              "      <td>The Munchables</td>\n",
              "      <td>Wii</td>\n",
              "      <td>2009.0</td>\n",
              "      <td>Action</td>\n",
              "      <td>Namco Bandai Games</td>\n",
              "      <td>0.17</td>\n",
              "      <td>0</td>\n",
              "      <td>0</td>\n",
              "      <td>0.01</td>\n",
              "    </tr>\n",
              "    <tr>\n",
              "      <th>2</th>\n",
              "      <td>Otome wa Oanesama Boku ni Koi Shiteru Portable</td>\n",
              "      <td>PSP</td>\n",
              "      <td>2010.0</td>\n",
              "      <td>Adventure</td>\n",
              "      <td>Alchemist</td>\n",
              "      <td>0</td>\n",
              "      <td>0</td>\n",
              "      <td>0.02</td>\n",
              "      <td>0</td>\n",
              "    </tr>\n",
              "    <tr>\n",
              "      <th>3</th>\n",
              "      <td>Deal or No Deal: Special Edition</td>\n",
              "      <td>DS</td>\n",
              "      <td>2010.0</td>\n",
              "      <td>Misc</td>\n",
              "      <td>Zoo Games</td>\n",
              "      <td>0.04</td>\n",
              "      <td>0</td>\n",
              "      <td>0</td>\n",
              "      <td>0</td>\n",
              "    </tr>\n",
              "    <tr>\n",
              "      <th>4</th>\n",
              "      <td>Ben 10 Ultimate Alien: Cosmic Destruction</td>\n",
              "      <td>PS3</td>\n",
              "      <td>2010.0</td>\n",
              "      <td>Platform</td>\n",
              "      <td>D3Publisher</td>\n",
              "      <td>0.12</td>\n",
              "      <td>0.09</td>\n",
              "      <td>0</td>\n",
              "      <td>0.04</td>\n",
              "    </tr>\n",
              "  </tbody>\n",
              "</table>\n",
              "</div>"
            ],
            "text/plain": [
              "                                             Name Platform  ...  JP_Sales Other_Sales\n",
              "0                    Candace Kane's Candy Factory       DS  ...         0           0\n",
              "1                                  The Munchables      Wii  ...         0        0.01\n",
              "2  Otome wa Oanesama Boku ni Koi Shiteru Portable      PSP  ...      0.02           0\n",
              "3                Deal or No Deal: Special Edition       DS  ...         0           0\n",
              "4       Ben 10 Ultimate Alien: Cosmic Destruction      PS3  ...         0        0.04\n",
              "\n",
              "[5 rows x 9 columns]"
            ]
          },
          "metadata": {
            "tags": []
          },
          "execution_count": 2
        }
      ]
    },
    {
      "cell_type": "code",
      "metadata": {
        "colab": {
          "base_uri": "https://localhost:8080/"
        },
        "id": "MYVZ4FXSvjHB",
        "outputId": "aa60280f-b913-414e-cb38-6469803633fe"
      },
      "source": [
        "# type 확인\n",
        "df.info()"
      ],
      "execution_count": 3,
      "outputs": [
        {
          "output_type": "stream",
          "text": [
            "<class 'pandas.core.frame.DataFrame'>\n",
            "RangeIndex: 16598 entries, 0 to 16597\n",
            "Data columns (total 9 columns):\n",
            " #   Column       Non-Null Count  Dtype  \n",
            "---  ------       --------------  -----  \n",
            " 0   Name         16598 non-null  object \n",
            " 1   Platform     16598 non-null  object \n",
            " 2   Year         16327 non-null  float64\n",
            " 3   Genre        16548 non-null  object \n",
            " 4   Publisher    16540 non-null  object \n",
            " 5   NA_Sales     16598 non-null  object \n",
            " 6   EU_Sales     16598 non-null  object \n",
            " 7   JP_Sales     16598 non-null  object \n",
            " 8   Other_Sales  16598 non-null  object \n",
            "dtypes: float64(1), object(8)\n",
            "memory usage: 1.1+ MB\n"
          ],
          "name": "stdout"
        }
      ]
    },
    {
      "cell_type": "code",
      "metadata": {
        "colab": {
          "base_uri": "https://localhost:8080/"
        },
        "id": "TDrUVpaQAhzC",
        "outputId": "3c5cb692-f31f-413b-d7b1-810d8608f660"
      },
      "source": [
        "df.shape"
      ],
      "execution_count": 4,
      "outputs": [
        {
          "output_type": "execute_result",
          "data": {
            "text/plain": [
              "(16598, 9)"
            ]
          },
          "metadata": {
            "tags": []
          },
          "execution_count": 4
        }
      ]
    },
    {
      "cell_type": "code",
      "metadata": {
        "colab": {
          "base_uri": "https://localhost:8080/"
        },
        "id": "lVYmra_Z1qMS",
        "outputId": "abd14a89-a7f6-4308-def9-b80f7867a8fd"
      },
      "source": [
        "# K나 M단위가 표시되어 있지 않은 출고량 대부분 소숫점, 단위 불분명\n",
        "# 따라서 K나 M단위가 표시되어 있지 않은 출고량은 M(1,000,000)으로 가정함\n",
        "\n",
        "# M단위 제거\n",
        "df['EU_Sales'] = df['EU_Sales'].str.replace('M','')\n",
        "df['JP_Sales'] = df['JP_Sales'].str.replace('M','')\n",
        "df['NA_Sales'] = df['NA_Sales'].str.replace('M','')\n",
        "df['Other_Sales'] = df['Other_Sales'].str.replace('M','')\n",
        "\n",
        "# K단위 제거\n",
        "df['NA_Sales'] = df['NA_Sales'].str.replace('K','')\n",
        "df['EU_Sales'] = df['EU_Sales'].str.replace('K','')\n",
        "df['JP_Sales'] = df['JP_Sales'].str.replace('K','')\n",
        "df['Other_Sales'] = df['Other_Sales'].str.replace('K','')\n",
        "\n",
        "# 숫자열로 변환\n",
        "df['NA_Sales'] = pd.to_numeric(df['NA_Sales'])\n",
        "df['EU_Sales'] = pd.to_numeric(df['EU_Sales'])\n",
        "df['JP_Sales'] = pd.to_numeric(df['JP_Sales'])\n",
        "df['Other_Sales'] = pd.to_numeric(df['Other_Sales'])\n",
        "\n",
        "df.info()"
      ],
      "execution_count": 5,
      "outputs": [
        {
          "output_type": "stream",
          "text": [
            "<class 'pandas.core.frame.DataFrame'>\n",
            "RangeIndex: 16598 entries, 0 to 16597\n",
            "Data columns (total 9 columns):\n",
            " #   Column       Non-Null Count  Dtype  \n",
            "---  ------       --------------  -----  \n",
            " 0   Name         16598 non-null  object \n",
            " 1   Platform     16598 non-null  object \n",
            " 2   Year         16327 non-null  float64\n",
            " 3   Genre        16548 non-null  object \n",
            " 4   Publisher    16540 non-null  object \n",
            " 5   NA_Sales     16598 non-null  float64\n",
            " 6   EU_Sales     16598 non-null  float64\n",
            " 7   JP_Sales     16598 non-null  float64\n",
            " 8   Other_Sales  16598 non-null  float64\n",
            "dtypes: float64(5), object(4)\n",
            "memory usage: 1.1+ MB\n"
          ],
          "name": "stdout"
        }
      ]
    },
    {
      "cell_type": "code",
      "metadata": {
        "id": "H5HX0w_jH_vS"
      },
      "source": [
        "#df = df.sort_values(by='NA_Sales', ascending=False)\n",
        "#df = df[df['NA_Sales'] >= 10]\n",
        "#df"
      ],
      "execution_count": 6,
      "outputs": []
    },
    {
      "cell_type": "code",
      "metadata": {
        "id": "R7-op5Hz7V7c"
      },
      "source": [
        "df1 = df.copy()\n",
        "# 1K = 0.001M -> K단위를 M단위로 통일\n",
        "\n",
        "for i in range(0, len(df1)):\n",
        "    if df1.loc[i,'NA_Sales'] >= 20:\n",
        "        df1.loc[i,'NA_Sales'] = df1.loc[i,'NA_Sales'] * 0.001\n",
        "\n",
        "for i in range(0, len(df1)):\n",
        "    if df1.loc[i,'EU_Sales'] >= 20:\n",
        "        df1.loc[i,'EU_Sales'] = df1.loc[i,'EU_Sales'] * 0.001\n",
        "\n",
        "for i in range(0, len(df1)):\n",
        "    if df1.loc[i,'JP_Sales'] >= 20:\n",
        "        df1.loc[i,'JP_Sales'] = df1.loc[i,'JP_Sales'] * 0.001\n",
        "\n",
        "for i in range(0, len(df1)):\n",
        "    if df1.loc[i,'Other_Sales'] >= 20:\n",
        "        df1.loc[i,'Other_Sales'] = df1.loc[i,'Other_Sales'] * 0.001\n",
        "\n",
        "df = df1"
      ],
      "execution_count": 7,
      "outputs": []
    },
    {
      "cell_type": "code",
      "metadata": {
        "colab": {
          "base_uri": "https://localhost:8080/"
        },
        "id": "ikBVGXMwFt1f",
        "outputId": "daf71528-e334-44b3-de84-8c1582b33f69"
      },
      "source": [
        "# Year, Genre 결측치 행 제거\n",
        "# 분석시에 결측치가 있으면 결과가 왜곡될 수 있는 경우만 제거 \n",
        "# Year, Genre는 내가 하고자 하는 분석의 핵심이므로 결측치는 제거한 후 분석\n",
        "\n",
        "df_drop_row = df.dropna(subset=['Year','Genre'])\n",
        "df_drop_row = df_drop_row.reset_index()\n",
        "df_drop_row = df_drop_row.drop('index',axis=1)\n",
        "df_drop_row.shape\n",
        "\n",
        "# df.shape = (16598, 9)\n",
        "# 약 320개 삭제"
      ],
      "execution_count": 8,
      "outputs": [
        {
          "output_type": "execute_result",
          "data": {
            "text/plain": [
              "(16277, 9)"
            ]
          },
          "metadata": {
            "tags": []
          },
          "execution_count": 8
        }
      ]
    },
    {
      "cell_type": "code",
      "metadata": {
        "id": "zXkpOUUdQOpW"
      },
      "source": [
        "# Year 표현 방식이 다른 것 통일 (2자리수로 표현된 것 4자리수로)\n",
        "for i in range(0, len(df_drop_row)):\n",
        "    if df_drop_row.loc[i, 'Year'] <=20:\n",
        "        df_drop_row.loc[i, 'Year'] += 2000\n",
        "    elif (df_drop_row.loc[i, 'Year'] >= 80) & (df_drop_row.loc[i, 'Year'] <= 99):\n",
        "        df_drop_row.loc[i, 'Year'] += 1900"
      ],
      "execution_count": 9,
      "outputs": []
    },
    {
      "cell_type": "markdown",
      "metadata": {
        "id": "t71NtSqxfCSE"
      },
      "source": [
        "### 전처리 완료한 최종 데이터"
      ]
    },
    {
      "cell_type": "code",
      "metadata": {
        "colab": {
          "base_uri": "https://localhost:8080/",
          "height": 496
        },
        "id": "mHtO5_qBUoYj",
        "outputId": "a0b609c5-c55b-4fa4-82d1-2bd241b61e87"
      },
      "source": [
        "game = df_drop_row\n",
        "game.head()"
      ],
      "execution_count": 10,
      "outputs": [
        {
          "output_type": "execute_result",
          "data": {
            "text/html": [
              "<div>\n",
              "<style scoped>\n",
              "    .dataframe tbody tr th:only-of-type {\n",
              "        vertical-align: middle;\n",
              "    }\n",
              "\n",
              "    .dataframe tbody tr th {\n",
              "        vertical-align: top;\n",
              "    }\n",
              "\n",
              "    .dataframe thead th {\n",
              "        text-align: right;\n",
              "    }\n",
              "</style>\n",
              "<table border=\"1\" class=\"dataframe\">\n",
              "  <thead>\n",
              "    <tr style=\"text-align: right;\">\n",
              "      <th></th>\n",
              "      <th>Name</th>\n",
              "      <th>Platform</th>\n",
              "      <th>Year</th>\n",
              "      <th>Genre</th>\n",
              "      <th>Publisher</th>\n",
              "      <th>NA_Sales</th>\n",
              "      <th>EU_Sales</th>\n",
              "      <th>JP_Sales</th>\n",
              "      <th>Other_Sales</th>\n",
              "    </tr>\n",
              "  </thead>\n",
              "  <tbody>\n",
              "    <tr>\n",
              "      <th>0</th>\n",
              "      <td>Candace Kane's Candy Factory</td>\n",
              "      <td>DS</td>\n",
              "      <td>2008.0</td>\n",
              "      <td>Action</td>\n",
              "      <td>Destineer</td>\n",
              "      <td>0.04</td>\n",
              "      <td>0.00</td>\n",
              "      <td>0.00</td>\n",
              "      <td>0.00</td>\n",
              "    </tr>\n",
              "    <tr>\n",
              "      <th>1</th>\n",
              "      <td>The Munchables</td>\n",
              "      <td>Wii</td>\n",
              "      <td>2009.0</td>\n",
              "      <td>Action</td>\n",
              "      <td>Namco Bandai Games</td>\n",
              "      <td>0.17</td>\n",
              "      <td>0.00</td>\n",
              "      <td>0.00</td>\n",
              "      <td>0.01</td>\n",
              "    </tr>\n",
              "    <tr>\n",
              "      <th>2</th>\n",
              "      <td>Otome wa Oanesama Boku ni Koi Shiteru Portable</td>\n",
              "      <td>PSP</td>\n",
              "      <td>2010.0</td>\n",
              "      <td>Adventure</td>\n",
              "      <td>Alchemist</td>\n",
              "      <td>0.00</td>\n",
              "      <td>0.00</td>\n",
              "      <td>0.02</td>\n",
              "      <td>0.00</td>\n",
              "    </tr>\n",
              "    <tr>\n",
              "      <th>3</th>\n",
              "      <td>Deal or No Deal: Special Edition</td>\n",
              "      <td>DS</td>\n",
              "      <td>2010.0</td>\n",
              "      <td>Misc</td>\n",
              "      <td>Zoo Games</td>\n",
              "      <td>0.04</td>\n",
              "      <td>0.00</td>\n",
              "      <td>0.00</td>\n",
              "      <td>0.00</td>\n",
              "    </tr>\n",
              "    <tr>\n",
              "      <th>4</th>\n",
              "      <td>Ben 10 Ultimate Alien: Cosmic Destruction</td>\n",
              "      <td>PS3</td>\n",
              "      <td>2010.0</td>\n",
              "      <td>Platform</td>\n",
              "      <td>D3Publisher</td>\n",
              "      <td>0.12</td>\n",
              "      <td>0.09</td>\n",
              "      <td>0.00</td>\n",
              "      <td>0.04</td>\n",
              "    </tr>\n",
              "  </tbody>\n",
              "</table>\n",
              "</div>"
            ],
            "text/plain": [
              "                                             Name  ... Other_Sales\n",
              "0                    Candace Kane's Candy Factory  ...        0.00\n",
              "1                                  The Munchables  ...        0.01\n",
              "2  Otome wa Oanesama Boku ni Koi Shiteru Portable  ...        0.00\n",
              "3                Deal or No Deal: Special Edition  ...        0.00\n",
              "4       Ben 10 Ultimate Alien: Cosmic Destruction  ...        0.04\n",
              "\n",
              "[5 rows x 9 columns]"
            ]
          },
          "metadata": {
            "tags": []
          },
          "execution_count": 10
        }
      ]
    },
    {
      "cell_type": "markdown",
      "metadata": {
        "id": "7U2HVfHafV0N"
      },
      "source": [
        "### 출고량 비교"
      ]
    },
    {
      "cell_type": "code",
      "metadata": {
        "colab": {
          "base_uri": "https://localhost:8080/",
          "height": 204
        },
        "id": "gUSN6YQWdA0N",
        "outputId": "05b16dea-4b80-4aa0-bfdf-3ab73c6f6fdc"
      },
      "source": [
        "sales = game.loc[:,'NA_Sales':'Other_Sales']\n",
        "sales.head()"
      ],
      "execution_count": 11,
      "outputs": [
        {
          "output_type": "execute_result",
          "data": {
            "text/html": [
              "<div>\n",
              "<style scoped>\n",
              "    .dataframe tbody tr th:only-of-type {\n",
              "        vertical-align: middle;\n",
              "    }\n",
              "\n",
              "    .dataframe tbody tr th {\n",
              "        vertical-align: top;\n",
              "    }\n",
              "\n",
              "    .dataframe thead th {\n",
              "        text-align: right;\n",
              "    }\n",
              "</style>\n",
              "<table border=\"1\" class=\"dataframe\">\n",
              "  <thead>\n",
              "    <tr style=\"text-align: right;\">\n",
              "      <th></th>\n",
              "      <th>NA_Sales</th>\n",
              "      <th>EU_Sales</th>\n",
              "      <th>JP_Sales</th>\n",
              "      <th>Other_Sales</th>\n",
              "    </tr>\n",
              "  </thead>\n",
              "  <tbody>\n",
              "    <tr>\n",
              "      <th>0</th>\n",
              "      <td>0.04</td>\n",
              "      <td>0.00</td>\n",
              "      <td>0.00</td>\n",
              "      <td>0.00</td>\n",
              "    </tr>\n",
              "    <tr>\n",
              "      <th>1</th>\n",
              "      <td>0.17</td>\n",
              "      <td>0.00</td>\n",
              "      <td>0.00</td>\n",
              "      <td>0.01</td>\n",
              "    </tr>\n",
              "    <tr>\n",
              "      <th>2</th>\n",
              "      <td>0.00</td>\n",
              "      <td>0.00</td>\n",
              "      <td>0.02</td>\n",
              "      <td>0.00</td>\n",
              "    </tr>\n",
              "    <tr>\n",
              "      <th>3</th>\n",
              "      <td>0.04</td>\n",
              "      <td>0.00</td>\n",
              "      <td>0.00</td>\n",
              "      <td>0.00</td>\n",
              "    </tr>\n",
              "    <tr>\n",
              "      <th>4</th>\n",
              "      <td>0.12</td>\n",
              "      <td>0.09</td>\n",
              "      <td>0.00</td>\n",
              "      <td>0.04</td>\n",
              "    </tr>\n",
              "  </tbody>\n",
              "</table>\n",
              "</div>"
            ],
            "text/plain": [
              "   NA_Sales  EU_Sales  JP_Sales  Other_Sales\n",
              "0      0.04      0.00      0.00         0.00\n",
              "1      0.17      0.00      0.00         0.01\n",
              "2      0.00      0.00      0.02         0.00\n",
              "3      0.04      0.00      0.00         0.00\n",
              "4      0.12      0.09      0.00         0.04"
            ]
          },
          "metadata": {
            "tags": []
          },
          "execution_count": 11
        }
      ]
    },
    {
      "cell_type": "code",
      "metadata": {
        "colab": {
          "base_uri": "https://localhost:8080/",
          "height": 297
        },
        "id": "E8IccdF5HGQ3",
        "outputId": "d26185ad-034d-40e9-fc61-a60143a5ebe4"
      },
      "source": [
        "sales.describe()"
      ],
      "execution_count": 12,
      "outputs": [
        {
          "output_type": "execute_result",
          "data": {
            "text/html": [
              "<div>\n",
              "<style scoped>\n",
              "    .dataframe tbody tr th:only-of-type {\n",
              "        vertical-align: middle;\n",
              "    }\n",
              "\n",
              "    .dataframe tbody tr th {\n",
              "        vertical-align: top;\n",
              "    }\n",
              "\n",
              "    .dataframe thead th {\n",
              "        text-align: right;\n",
              "    }\n",
              "</style>\n",
              "<table border=\"1\" class=\"dataframe\">\n",
              "  <thead>\n",
              "    <tr style=\"text-align: right;\">\n",
              "      <th></th>\n",
              "      <th>NA_Sales</th>\n",
              "      <th>EU_Sales</th>\n",
              "      <th>JP_Sales</th>\n",
              "      <th>Other_Sales</th>\n",
              "    </tr>\n",
              "  </thead>\n",
              "  <tbody>\n",
              "    <tr>\n",
              "      <th>count</th>\n",
              "      <td>16277.000000</td>\n",
              "      <td>16277.000000</td>\n",
              "      <td>16277.000000</td>\n",
              "      <td>16277.000000</td>\n",
              "    </tr>\n",
              "    <tr>\n",
              "      <th>mean</th>\n",
              "      <td>0.258784</td>\n",
              "      <td>0.148489</td>\n",
              "      <td>0.079953</td>\n",
              "      <td>0.054271</td>\n",
              "    </tr>\n",
              "    <tr>\n",
              "      <th>std</th>\n",
              "      <td>0.674672</td>\n",
              "      <td>0.486271</td>\n",
              "      <td>0.337034</td>\n",
              "      <td>0.310989</td>\n",
              "    </tr>\n",
              "    <tr>\n",
              "      <th>min</th>\n",
              "      <td>0.000000</td>\n",
              "      <td>0.000000</td>\n",
              "      <td>0.000000</td>\n",
              "      <td>0.000000</td>\n",
              "    </tr>\n",
              "    <tr>\n",
              "      <th>25%</th>\n",
              "      <td>0.000000</td>\n",
              "      <td>0.000000</td>\n",
              "      <td>0.000000</td>\n",
              "      <td>0.000000</td>\n",
              "    </tr>\n",
              "    <tr>\n",
              "      <th>50%</th>\n",
              "      <td>0.080000</td>\n",
              "      <td>0.020000</td>\n",
              "      <td>0.000000</td>\n",
              "      <td>0.010000</td>\n",
              "    </tr>\n",
              "    <tr>\n",
              "      <th>75%</th>\n",
              "      <td>0.240000</td>\n",
              "      <td>0.110000</td>\n",
              "      <td>0.040000</td>\n",
              "      <td>0.040000</td>\n",
              "    </tr>\n",
              "    <tr>\n",
              "      <th>max</th>\n",
              "      <td>15.850000</td>\n",
              "      <td>12.880000</td>\n",
              "      <td>10.220000</td>\n",
              "      <td>10.570000</td>\n",
              "    </tr>\n",
              "  </tbody>\n",
              "</table>\n",
              "</div>"
            ],
            "text/plain": [
              "           NA_Sales      EU_Sales      JP_Sales   Other_Sales\n",
              "count  16277.000000  16277.000000  16277.000000  16277.000000\n",
              "mean       0.258784      0.148489      0.079953      0.054271\n",
              "std        0.674672      0.486271      0.337034      0.310989\n",
              "min        0.000000      0.000000      0.000000      0.000000\n",
              "25%        0.000000      0.000000      0.000000      0.000000\n",
              "50%        0.080000      0.020000      0.000000      0.010000\n",
              "75%        0.240000      0.110000      0.040000      0.040000\n",
              "max       15.850000     12.880000     10.220000     10.570000"
            ]
          },
          "metadata": {
            "tags": []
          },
          "execution_count": 12
        }
      ]
    },
    {
      "cell_type": "code",
      "metadata": {
        "id": "VXINBJIjG8cP"
      },
      "source": [
        "# 지역별 출고량 차이가 나는지 anova로 검증"
      ],
      "execution_count": 13,
      "outputs": []
    },
    {
      "cell_type": "code",
      "metadata": {
        "id": "nApQazGK4CaG"
      },
      "source": [
        "from scipy.stats import normaltest\n",
        "import matplotlib.pyplot as plt"
      ],
      "execution_count": 14,
      "outputs": []
    },
    {
      "cell_type": "code",
      "metadata": {
        "id": "m5CGYhWl72yO"
      },
      "source": [
        "sales_NA = sales['NA_Sales'][sales['NA_Sales'] != 0]\n",
        "sales_EU = sales['EU_Sales'][sales['EU_Sales'] != 0]\n",
        "sales_JP = sales['JP_Sales'][sales['JP_Sales'] != 0]\n",
        "sales_Other = sales['Other_Sales'][sales['Other_Sales'] != 0]"
      ],
      "execution_count": 15,
      "outputs": []
    },
    {
      "cell_type": "code",
      "metadata": {
        "colab": {
          "base_uri": "https://localhost:8080/",
          "height": 319
        },
        "id": "CYKBCBRO44Mk",
        "outputId": "fac51e65-848c-4105-e9fa-304d8f53e04f"
      },
      "source": [
        "data = [sales_NA, sales_EU, sales_JP, sales_Other]\n",
        "plt.boxplot(data)\n",
        "plt.show()"
      ],
      "execution_count": 16,
      "outputs": [
        {
          "output_type": "stream",
          "text": [
            "/usr/local/lib/python3.7/dist-packages/numpy/core/_asarray.py:83: VisibleDeprecationWarning: Creating an ndarray from ragged nested sequences (which is a list-or-tuple of lists-or-tuples-or ndarrays with different lengths or shapes) is deprecated. If you meant to do this, you must specify 'dtype=object' when creating the ndarray\n",
            "  return array(a, dtype, copy=False, order=order)\n"
          ],
          "name": "stderr"
        },
        {
          "output_type": "display_data",
          "data": {
            "image/png": "[encoded data removed]",
            "text/plain": [
              "<Figure size 432x288 with 1 Axes>"
            ]
          },
          "metadata": {
            "tags": [],
            "needs_background": "light"
          }
        }
      ]
    },
    {
      "cell_type": "code",
      "metadata": {
        "colab": {
          "base_uri": "https://localhost:8080/"
        },
        "id": "XfhczNpxAzWu",
        "outputId": "0f8c65b7-22e1-4127-c887-ab4c2434a695"
      },
      "source": [
        "# ANOVA\n",
        "# Null.hy = 지역 간 출고량 평균의 차이가 없다.\n",
        "# Alter.hy = 지역 간 출고량 평균의 차이가 있다.(적어도 한 지역의 평균은 다르다)\n",
        "\n",
        "stats.f_oneway(sales_NA, sales_EU, sales_JP, sales_Other)\n",
        "\n",
        "# p-value가 매우 작은 값이므로, 유의수준 5% 하에서 귀무가설 기각, 대립가설 채택\n",
        "# 즉, 4개 지역 간 평균 출고량의 차이가 존재한다고 볼 수 있다. (적어도 한 지역의 평균은 다르다)"
      ],
      "execution_count": 17,
      "outputs": [
        {
          "output_type": "execute_result",
          "data": {
            "text/plain": [
              "F_onewayResult(statistic=356.8665043322707, pvalue=1.2776098761751193e-228)"
            ]
          },
          "metadata": {
            "tags": []
          },
          "execution_count": 17
        }
      ]
    },
    {
      "cell_type": "markdown",
      "metadata": {
        "id": "dqCod_uvD18S"
      },
      "source": [
        "### 시장의 전체적인 규모 파악"
      ]
    },
    {
      "cell_type": "code",
      "metadata": {
        "colab": {
          "base_uri": "https://localhost:8080/",
          "height": 496
        },
        "id": "pLRckf_Lwhiq",
        "outputId": "f910f810-1013-4b84-9162-82d8c7f90bf8"
      },
      "source": [
        "game['Total_Sales'] = game['EU_Sales'] + game['JP_Sales'] + game['NA_Sales'] + game['Other_Sales']\n",
        "game.head()"
      ],
      "execution_count": 18,
      "outputs": [
        {
          "output_type": "execute_result",
          "data": {
            "text/html": [
              "<div>\n",
              "<style scoped>\n",
              "    .dataframe tbody tr th:only-of-type {\n",
              "        vertical-align: middle;\n",
              "    }\n",
              "\n",
              "    .dataframe tbody tr th {\n",
              "        vertical-align: top;\n",
              "    }\n",
              "\n",
              "    .dataframe thead th {\n",
              "        text-align: right;\n",
              "    }\n",
              "</style>\n",
              "<table border=\"1\" class=\"dataframe\">\n",
              "  <thead>\n",
              "    <tr style=\"text-align: right;\">\n",
              "      <th></th>\n",
              "      <th>Name</th>\n",
              "      <th>Platform</th>\n",
              "      <th>Year</th>\n",
              "      <th>Genre</th>\n",
              "      <th>Publisher</th>\n",
              "      <th>NA_Sales</th>\n",
              "      <th>EU_Sales</th>\n",
              "      <th>JP_Sales</th>\n",
              "      <th>Other_Sales</th>\n",
              "      <th>Total_Sales</th>\n",
              "    </tr>\n",
              "  </thead>\n",
              "  <tbody>\n",
              "    <tr>\n",
              "      <th>0</th>\n",
              "      <td>Candace Kane's Candy Factory</td>\n",
              "      <td>DS</td>\n",
              "      <td>2008.0</td>\n",
              "      <td>Action</td>\n",
              "      <td>Destineer</td>\n",
              "      <td>0.04</td>\n",
              "      <td>0.00</td>\n",
              "      <td>0.00</td>\n",
              "      <td>0.00</td>\n",
              "      <td>0.04</td>\n",
              "    </tr>\n",
              "    <tr>\n",
              "      <th>1</th>\n",
              "      <td>The Munchables</td>\n",
              "      <td>Wii</td>\n",
              "      <td>2009.0</td>\n",
              "      <td>Action</td>\n",
              "      <td>Namco Bandai Games</td>\n",
              "      <td>0.17</td>\n",
              "      <td>0.00</td>\n",
              "      <td>0.00</td>\n",
              "      <td>0.01</td>\n",
              "      <td>0.18</td>\n",
              "    </tr>\n",
              "    <tr>\n",
              "      <th>2</th>\n",
              "      <td>Otome wa Oanesama Boku ni Koi Shiteru Portable</td>\n",
              "      <td>PSP</td>\n",
              "      <td>2010.0</td>\n",
              "      <td>Adventure</td>\n",
              "      <td>Alchemist</td>\n",
              "      <td>0.00</td>\n",
              "      <td>0.00</td>\n",
              "      <td>0.02</td>\n",
              "      <td>0.00</td>\n",
              "      <td>0.02</td>\n",
              "    </tr>\n",
              "    <tr>\n",
              "      <th>3</th>\n",
              "      <td>Deal or No Deal: Special Edition</td>\n",
              "      <td>DS</td>\n",
              "      <td>2010.0</td>\n",
              "      <td>Misc</td>\n",
              "      <td>Zoo Games</td>\n",
              "      <td>0.04</td>\n",
              "      <td>0.00</td>\n",
              "      <td>0.00</td>\n",
              "      <td>0.00</td>\n",
              "      <td>0.04</td>\n",
              "    </tr>\n",
              "    <tr>\n",
              "      <th>4</th>\n",
              "      <td>Ben 10 Ultimate Alien: Cosmic Destruction</td>\n",
              "      <td>PS3</td>\n",
              "      <td>2010.0</td>\n",
              "      <td>Platform</td>\n",
              "      <td>D3Publisher</td>\n",
              "      <td>0.12</td>\n",
              "      <td>0.09</td>\n",
              "      <td>0.00</td>\n",
              "      <td>0.04</td>\n",
              "      <td>0.25</td>\n",
              "    </tr>\n",
              "  </tbody>\n",
              "</table>\n",
              "</div>"
            ],
            "text/plain": [
              "                                             Name  ... Total_Sales\n",
              "0                    Candace Kane's Candy Factory  ...        0.04\n",
              "1                                  The Munchables  ...        0.18\n",
              "2  Otome wa Oanesama Boku ni Koi Shiteru Portable  ...        0.02\n",
              "3                Deal or No Deal: Special Edition  ...        0.04\n",
              "4       Ben 10 Ultimate Alien: Cosmic Destruction  ...        0.25\n",
              "\n",
              "[5 rows x 10 columns]"
            ]
          },
          "metadata": {
            "tags": []
          },
          "execution_count": 18
        }
      ]
    },
    {
      "cell_type": "code",
      "metadata": {
        "colab": {
          "base_uri": "https://localhost:8080/"
        },
        "id": "CfDiMdwq6wFN",
        "outputId": "42bdcf13-4dff-46d3-caaa-8e553656d49a"
      },
      "source": [
        "game['Total_Sales'].sum()"
      ],
      "execution_count": 19,
      "outputs": [
        {
          "output_type": "execute_result",
          "data": {
            "text/plain": [
              "8813.939719999998"
            ]
          },
          "metadata": {
            "tags": []
          },
          "execution_count": 19
        }
      ]
    },
    {
      "cell_type": "code",
      "metadata": {
        "colab": {
          "base_uri": "https://localhost:8080/"
        },
        "id": "RoIlQQQZR5uS",
        "outputId": "c0a7d592-b2bc-4eff-c6df-87701f803ac5"
      },
      "source": [
        "NA_total_pie = sales['NA_Sales'].sum()\n",
        "EU_total_pie = sales['EU_Sales'].sum()\n",
        "JP_total_pie = sales['JP_Sales'].sum()\n",
        "Other_total_pie = sales['Other_Sales'].sum()\n",
        "\n",
        "print(NA_total_pie)\n",
        "print(EU_total_pie)\n",
        "print(JP_total_pie)\n",
        "print(Other_total_pie)"
      ],
      "execution_count": 20,
      "outputs": [
        {
          "output_type": "stream",
          "text": [
            "4212.2207\n",
            "2416.9590200000002\n",
            "1301.39\n",
            "883.37\n"
          ],
          "name": "stdout"
        }
      ]
    },
    {
      "cell_type": "markdown",
      "metadata": {
        "id": "PELrrxKlwbAy"
      },
      "source": [
        "### 연대별 게임 시장 규모"
      ]
    },
    {
      "cell_type": "code",
      "metadata": {
        "colab": {
          "base_uri": "https://localhost:8080/",
          "height": 173
        },
        "id": "0D1WxKd1kEyy",
        "outputId": "ced13b7e-6717-4d72-9958-0fc8047a55ff"
      },
      "source": [
        "bins = list(range(1980, 2021, 10))\n",
        "\n",
        "bins_label = [str(x)+'~' for x in bins]\n",
        "\n",
        "game['range'] = pd.cut(game['Year'], bins, right=False, labels=bins_label[:-1])\n",
        "\n",
        "# range별 게임 개수\n",
        "range = game.range.value_counts().to_frame() \n",
        "range"
      ],
      "execution_count": 21,
      "outputs": [
        {
          "output_type": "execute_result",
          "data": {
            "text/html": [
              "<div>\n",
              "<style scoped>\n",
              "    .dataframe tbody tr th:only-of-type {\n",
              "        vertical-align: middle;\n",
              "    }\n",
              "\n",
              "    .dataframe tbody tr th {\n",
              "        vertical-align: top;\n",
              "    }\n",
              "\n",
              "    .dataframe thead th {\n",
              "        text-align: right;\n",
              "    }\n",
              "</style>\n",
              "<table border=\"1\" class=\"dataframe\">\n",
              "  <thead>\n",
              "    <tr style=\"text-align: right;\">\n",
              "      <th></th>\n",
              "      <th>range</th>\n",
              "    </tr>\n",
              "  </thead>\n",
              "  <tbody>\n",
              "    <tr>\n",
              "      <th>2000~</th>\n",
              "      <td>9178</td>\n",
              "    </tr>\n",
              "    <tr>\n",
              "      <th>2010~</th>\n",
              "      <td>5130</td>\n",
              "    </tr>\n",
              "    <tr>\n",
              "      <th>1990~</th>\n",
              "      <td>1764</td>\n",
              "    </tr>\n",
              "    <tr>\n",
              "      <th>1980~</th>\n",
              "      <td>204</td>\n",
              "    </tr>\n",
              "  </tbody>\n",
              "</table>\n",
              "</div>"
            ],
            "text/plain": [
              "       range\n",
              "2000~   9178\n",
              "2010~   5130\n",
              "1990~   1764\n",
              "1980~    204"
            ]
          },
          "metadata": {
            "tags": []
          },
          "execution_count": 21
        }
      ]
    },
    {
      "cell_type": "code",
      "metadata": {
        "colab": {
          "base_uri": "https://localhost:8080/",
          "height": 279
        },
        "id": "fltyHvKwpFmM",
        "outputId": "14de4e39-d7b9-4512-e3ff-4a523ac4ca8e"
      },
      "source": [
        "rg = sns.countplot(x='range', data=game, color='#000000')\n"
      ],
      "execution_count": 22,
      "outputs": [
        {
          "output_type": "display_data",
          "data": {
            "image/png": "[encoded data removed]",
            "text/plain": [
              "<Figure size 432x288 with 1 Axes>"
            ]
          },
          "metadata": {
            "tags": [],
            "needs_background": "light"
          }
        }
      ]
    },
    {
      "cell_type": "code",
      "metadata": {
        "colab": {
          "base_uri": "https://localhost:8080/"
        },
        "id": "ph3NaKTPxoAv",
        "outputId": "99fa8ac1-f622-443d-d03c-c2251891c26a"
      },
      "source": [
        "# range별 출고량 변화\n",
        "total_by_range = game['Total_Sales'].groupby(game['range']) \n",
        "total_by_range.sum()\n"
      ],
      "execution_count": 23,
      "outputs": [
        {
          "output_type": "execute_result",
          "data": {
            "text/plain": [
              "range\n",
              "1980~     296.84921\n",
              "1990~    1285.18000\n",
              "2000~    4659.76051\n",
              "2010~    2571.86000\n",
              "Name: Total_Sales, dtype: float64"
            ]
          },
          "metadata": {
            "tags": []
          },
          "execution_count": 23
        }
      ]
    },
    {
      "cell_type": "markdown",
      "metadata": {
        "id": "0L4UST0mD5Yj"
      },
      "source": [
        "### 시장 내의 평균 출고량 파악 \n",
        "전체 시장 규모를 해당 시장에 출시한 게임 수로 나누는 것을 통해 어느 시장에서 우리 게임이 가장 많은 pie를 가질 수 있을지 알아봄"
      ]
    },
    {
      "cell_type": "code",
      "metadata": {
        "colab": {
          "base_uri": "https://localhost:8080/"
        },
        "id": "xO1V3lZ8Tkbe",
        "outputId": "f2afd4c5-8335-48d6-9968-48147bd8f171"
      },
      "source": [
        "# how competitive the market is (평균 출고량)\n",
        "compet_NA = NA_total_pie / len(sales_NA)\n",
        "compet_EU = EU_total_pie / len(sales_EU)\n",
        "compet_JP = JP_total_pie / len(sales_JP)\n",
        "compet_Other = Other_total_pie / len(sales_Other)\n",
        "\n",
        "print(compet_NA)\n",
        "print(compet_EU)\n",
        "print(compet_JP)\n",
        "print(compet_Other)"
      ],
      "execution_count": 24,
      "outputs": [
        {
          "output_type": "stream",
          "text": [
            "0.35555167552966993\n",
            "0.22660407087943\n",
            "0.21439703459637563\n",
            "0.08895971802618328\n"
          ],
          "name": "stdout"
        }
      ]
    },
    {
      "cell_type": "markdown",
      "metadata": {
        "id": "MwvJuU0FJ2L8"
      },
      "source": [
        "### 지역별 선호 장르 파악\n",
        "출고된 게임 개수, 출고량 기준으로 파악"
      ]
    },
    {
      "cell_type": "code",
      "metadata": {
        "id": "6l9VqhEeZtw_"
      },
      "source": [
        "# 출고량과 장르 chisquare test (독립성 검증)\n",
        "# Null.hy = 두 변수는 독립적이다 (연관 X)\n",
        "# Alter.hy = 두 변수는 독립적이지 않다 (연관 O)"
      ],
      "execution_count": 25,
      "outputs": []
    },
    {
      "cell_type": "code",
      "metadata": {
        "colab": {
          "base_uri": "https://localhost:8080/"
        },
        "id": "CzEfVzh-ZvYB",
        "outputId": "28a9f6af-5801-4f8a-a968-47f854ed9134"
      },
      "source": [
        "fav_genre = game[['Genre','NA_Sales','EU_Sales','JP_Sales','Other_Sales']]\n",
        "fav_genre_sum = fav_genre.groupby('Genre').sum()\n",
        "\n",
        "print('p-value is: ', stats.chi2_contingency(fav_genre_sum)[1])\n",
        "\n",
        "# 출고량과 장르는 관련이 있다"
      ],
      "execution_count": 26,
      "outputs": [
        {
          "output_type": "stream",
          "text": [
            "p-value is:  1.3719498331315393e-116\n"
          ],
          "name": "stdout"
        }
      ]
    },
    {
      "cell_type": "code",
      "metadata": {
        "id": "7MLKZYbQZqwa"
      },
      "source": [
        "# 출고된 게임 개수"
      ],
      "execution_count": 27,
      "outputs": []
    },
    {
      "cell_type": "code",
      "metadata": {
        "id": "AitQgDUMKeRW"
      },
      "source": [
        "game_NA = game.loc[game['NA_Sales'] != 0]\n",
        "game_EU = game.loc[game['EU_Sales'] != 0]\n",
        "game_JP = game.loc[game['JP_Sales'] != 0]\n",
        "game_Other = game.loc[game['Other_Sales'] != 0]"
      ],
      "execution_count": 28,
      "outputs": []
    },
    {
      "cell_type": "code",
      "metadata": {
        "id": "F43Dtv1yB1jj"
      },
      "source": [
        "color_list = ['#1f77b4', '#ff7f0e', '#2ca02c', '#d62728', '#9467bd', '#8c564b', '#e377c2', '#7f7f7f', '#bcbd22', '#17becf', '#000000', '#ece322']\n",
        "plt.rcParams['axes.prop_cycle'] = plt.cycler(color=color_list)\n",
        "plt.show()"
      ],
      "execution_count": 29,
      "outputs": []
    },
    {
      "cell_type": "code",
      "metadata": {
        "id": "EW-0NDLfxMWi"
      },
      "source": [
        "Genre_list = ['Action','Adventure','Fighting','Misc','Platform','Puzzle','Racing','Role-Playing','Shooter','Simulation','Sports','Strategy']"
      ],
      "execution_count": 30,
      "outputs": []
    },
    {
      "cell_type": "code",
      "metadata": {
        "colab": {
          "base_uri": "https://localhost:8080/",
          "height": 336
        },
        "id": "7eF0gSroK8_z",
        "outputId": "031d5918-605c-447a-ebd4-bff39547041a"
      },
      "source": [
        "na = sns.countplot(x='Genre',data=game_NA, order = Genre_list)\n",
        "na.set_xticklabels(na.get_xticklabels(), rotation=45, horizontalalignment='right')\n",
        "plt.title('Game Genre Distribution in NA Region')\n",
        "plt.show()\n",
        "\n",
        "nafig = na.get_figure()\n",
        "nafig.savefig('genre_distribution_NA.png', dpi = 200, bbox_inches='tight', pad_inches=0.3, transparent=True)"
      ],
      "execution_count": 31,
      "outputs": [
        {
          "output_type": "display_data",
          "data": {
            "image/png": "[encoded data removed]",
            "text/plain": [
              "<Figure size 432x288 with 1 Axes>"
            ]
          },
          "metadata": {
            "tags": [],
            "needs_background": "light"
          }
        }
      ]
    },
    {
      "cell_type": "code",
      "metadata": {
        "colab": {
          "base_uri": "https://localhost:8080/",
          "height": 336
        },
        "id": "cQjcLt9FRPVj",
        "outputId": "7aed83ac-1323-42cc-e38a-f281fcfee783"
      },
      "source": [
        "eu = sns.countplot(x='Genre',data=game_EU, order=Genre_list)\n",
        "eu.set_xticklabels(eu.get_xticklabels(), rotation=45, horizontalalignment='right')\n",
        "plt.title('Game Genre Distribution in EU Region')\n",
        "plt.show()\n",
        "\n",
        "eufig = eu.get_figure()\n",
        "eufig.savefig('genre_distribution_EU.png', dpi = 200, bbox_inches='tight', pad_inches=0.3, transparent=True)"
      ],
      "execution_count": 32,
      "outputs": [
        {
          "output_type": "display_data",
          "data": {
            "image/png": "[encoded data removed]",
            "text/plain": [
              "<Figure size 432x288 with 1 Axes>"
            ]
          },
          "metadata": {
            "tags": [],
            "needs_background": "light"
          }
        }
      ]
    },
    {
      "cell_type": "code",
      "metadata": {
        "colab": {
          "base_uri": "https://localhost:8080/",
          "height": 336
        },
        "id": "qZkoO4-xRZ2l",
        "outputId": "58d33603-7002-4c38-b2a6-fea1a2445b29"
      },
      "source": [
        "jp = sns.countplot(x='Genre',data=game_JP, order=Genre_list)\n",
        "jp.set_xticklabels(jp.get_xticklabels(), rotation=45, horizontalalignment='right')\n",
        "plt.title('Game Genre Distribution in Japan')\n",
        "plt.show()\n",
        "\n",
        "jpfig = jp.get_figure()\n",
        "jpfig.savefig('genre_distribution_JP.png', dpi = 200, bbox_inches='tight', pad_inches=0.3, transparent=True)"
      ],
      "execution_count": 33,
      "outputs": [
        {
          "output_type": "display_data",
          "data": {
            "image/png": "[encoded data removed]",
            "text/plain": [
              "<Figure size 432x288 with 1 Axes>"
            ]
          },
          "metadata": {
            "tags": [],
            "needs_background": "light"
          }
        }
      ]
    },
    {
      "cell_type": "code",
      "metadata": {
        "colab": {
          "base_uri": "https://localhost:8080/",
          "height": 336
        },
        "id": "3zGfZYHYRjuV",
        "outputId": "66a43999-dab4-4761-9a65-f900ea952eb3"
      },
      "source": [
        "ot = sns.countplot(x='Genre',data=game_Other, order=Genre_list)\n",
        "ot.set_xticklabels(ot.get_xticklabels(), rotation=45, horizontalalignment='right')\n",
        "plt.title('Game Genre Distribution in Other Regions')\n",
        "plt.show()\n",
        "\n",
        "otfig = ot.get_figure()\n",
        "otfig.savefig('genre_distribution_Other.png', dpi = 200, bbox_inches='tight', pad_inches=0.3, transparent=True)"
      ],
      "execution_count": 34,
      "outputs": [
        {
          "output_type": "display_data",
          "data": {
            "image/png": "[encoded data removed]",
            "text/plain": [
              "<Figure size 432x288 with 1 Axes>"
            ]
          },
          "metadata": {
            "tags": [],
            "needs_background": "light"
          }
        }
      ]
    },
    {
      "cell_type": "code",
      "metadata": {
        "colab": {
          "base_uri": "https://localhost:8080/",
          "height": 336
        },
        "id": "96mulLASYIto",
        "outputId": "733c1cf7-ae59-448d-bd9f-2467fa78562c"
      },
      "source": [
        "# 출고량 기준 지역별 성향\n",
        "total_pref = game.groupby(by=['Genre'])['Total_Sales'].sum()\n",
        "total_pref = total_pref.reset_index()\n",
        "\n",
        "na_pref = game.groupby(by=['Genre'])['NA_Sales'].sum()\n",
        "na_pref = na_pref.reset_index()\n",
        "\n",
        "eu_pref = game.groupby(by=['Genre'])['EU_Sales'].sum()\n",
        "eu_pref = eu_pref.reset_index()\n",
        "\n",
        "jp_pref = game.groupby(by=['Genre'])['JP_Sales'].sum()\n",
        "jp_pref = jp_pref.reset_index()\n",
        "\n",
        "ot_pref = game.groupby(by=['Genre'])['Other_Sales'].sum()\n",
        "ot_pref = ot_pref.reset_index()\n",
        "\n",
        "total_pref = total_pref.combine_first(eu_pref).combine_first(jp_pref).combine_first(ot_pref).combine_first(na_pref)\n",
        "total_pref = total_pref.set_index('Genre')\n",
        "\n",
        "#total_pref\n",
        "\n",
        "\n",
        "sns.set_style('whitegrid')\n",
        "plt.title('Game Genre Preference by Sales')\n",
        "plt.xlabel('Genre')\n",
        "plt.ylabel('Sales')\n",
        "\n",
        "pf = sns.lineplot(data=total_pref, palette=['#64bd41','#f2cb27','#2d6bb2','#cc3e3e','#ad42c9'])\n",
        "pf.set_xticklabels(labels=Genre_list, rotation=45, horizontalalignment='right')\n",
        "sns.despine()\n",
        "plt.show()\n",
        "\n",
        "pffig = pf.get_figure()\n",
        "pffig.savefig('game_genre_pref.png', dpi = 200, bbox_inches='tight', pad_inches=0.3, transparent=True)"
      ],
      "execution_count": 35,
      "outputs": [
        {
          "output_type": "display_data",
          "data": {
            "image/png": "[encoded data removed]",
            "text/plain": [
              "<Figure size 432x288 with 1 Axes>"
            ]
          },
          "metadata": {
            "tags": []
          }
        }
      ]
    },
    {
      "cell_type": "code",
      "metadata": {
        "id": "Se30IJ3BY4VO"
      },
      "source": [
        "# 전체적으로 Action, Sport, Misc 장르 게임 출시하는 경우 많음\n",
        "# 일본의 경우 다른 지역과 다르게 role-playing 장르 선호도가 높은 것이 특징"
      ],
      "execution_count": 36,
      "outputs": []
    },
    {
      "cell_type": "markdown",
      "metadata": {
        "id": "03kJwhGZR3sk"
      },
      "source": [
        "### 연도별 게임 트렌드 파악"
      ]
    },
    {
      "cell_type": "code",
      "metadata": {
        "id": "Q-t9zOM4jFfn"
      },
      "source": [
        "# 장르에 따른 게임 개수"
      ],
      "execution_count": 37,
      "outputs": []
    },
    {
      "cell_type": "code",
      "metadata": {
        "colab": {
          "base_uri": "https://localhost:8080/",
          "height": 272
        },
        "id": "OyZgRqAtDqGd",
        "outputId": "66e7e34f-8bba-493b-a291-2500bf966018"
      },
      "source": [
        "trend_gr = game[['Year', 'Genre']]\n",
        "trend_table_gr = pd.crosstab(trend_gr.Year, trend_gr.Genre)\n",
        "trend_table_gr.head()"
      ],
      "execution_count": 38,
      "outputs": [
        {
          "output_type": "execute_result",
          "data": {
            "text/html": [
              "<div>\n",
              "<style scoped>\n",
              "    .dataframe tbody tr th:only-of-type {\n",
              "        vertical-align: middle;\n",
              "    }\n",
              "\n",
              "    .dataframe tbody tr th {\n",
              "        vertical-align: top;\n",
              "    }\n",
              "\n",
              "    .dataframe thead th {\n",
              "        text-align: right;\n",
              "    }\n",
              "</style>\n",
              "<table border=\"1\" class=\"dataframe\">\n",
              "  <thead>\n",
              "    <tr style=\"text-align: right;\">\n",
              "      <th>Genre</th>\n",
              "      <th>Action</th>\n",
              "      <th>Adventure</th>\n",
              "      <th>Fighting</th>\n",
              "      <th>Misc</th>\n",
              "      <th>Platform</th>\n",
              "      <th>Puzzle</th>\n",
              "      <th>Racing</th>\n",
              "      <th>Role-Playing</th>\n",
              "      <th>Shooter</th>\n",
              "      <th>Simulation</th>\n",
              "      <th>Sports</th>\n",
              "      <th>Strategy</th>\n",
              "    </tr>\n",
              "    <tr>\n",
              "      <th>Year</th>\n",
              "      <th></th>\n",
              "      <th></th>\n",
              "      <th></th>\n",
              "      <th></th>\n",
              "      <th></th>\n",
              "      <th></th>\n",
              "      <th></th>\n",
              "      <th></th>\n",
              "      <th></th>\n",
              "      <th></th>\n",
              "      <th></th>\n",
              "      <th></th>\n",
              "    </tr>\n",
              "  </thead>\n",
              "  <tbody>\n",
              "    <tr>\n",
              "      <th>1980.0</th>\n",
              "      <td>1</td>\n",
              "      <td>0</td>\n",
              "      <td>1</td>\n",
              "      <td>4</td>\n",
              "      <td>0</td>\n",
              "      <td>0</td>\n",
              "      <td>0</td>\n",
              "      <td>0</td>\n",
              "      <td>2</td>\n",
              "      <td>0</td>\n",
              "      <td>0</td>\n",
              "      <td>0</td>\n",
              "    </tr>\n",
              "    <tr>\n",
              "      <th>1981.0</th>\n",
              "      <td>25</td>\n",
              "      <td>0</td>\n",
              "      <td>0</td>\n",
              "      <td>0</td>\n",
              "      <td>3</td>\n",
              "      <td>2</td>\n",
              "      <td>1</td>\n",
              "      <td>0</td>\n",
              "      <td>10</td>\n",
              "      <td>1</td>\n",
              "      <td>4</td>\n",
              "      <td>0</td>\n",
              "    </tr>\n",
              "    <tr>\n",
              "      <th>1982.0</th>\n",
              "      <td>18</td>\n",
              "      <td>0</td>\n",
              "      <td>0</td>\n",
              "      <td>1</td>\n",
              "      <td>5</td>\n",
              "      <td>3</td>\n",
              "      <td>2</td>\n",
              "      <td>0</td>\n",
              "      <td>5</td>\n",
              "      <td>0</td>\n",
              "      <td>2</td>\n",
              "      <td>0</td>\n",
              "    </tr>\n",
              "    <tr>\n",
              "      <th>1983.0</th>\n",
              "      <td>7</td>\n",
              "      <td>1</td>\n",
              "      <td>0</td>\n",
              "      <td>1</td>\n",
              "      <td>5</td>\n",
              "      <td>1</td>\n",
              "      <td>0</td>\n",
              "      <td>0</td>\n",
              "      <td>1</td>\n",
              "      <td>0</td>\n",
              "      <td>1</td>\n",
              "      <td>0</td>\n",
              "    </tr>\n",
              "    <tr>\n",
              "      <th>1984.0</th>\n",
              "      <td>1</td>\n",
              "      <td>0</td>\n",
              "      <td>0</td>\n",
              "      <td>1</td>\n",
              "      <td>1</td>\n",
              "      <td>3</td>\n",
              "      <td>3</td>\n",
              "      <td>0</td>\n",
              "      <td>3</td>\n",
              "      <td>0</td>\n",
              "      <td>2</td>\n",
              "      <td>0</td>\n",
              "    </tr>\n",
              "  </tbody>\n",
              "</table>\n",
              "</div>"
            ],
            "text/plain": [
              "Genre   Action  Adventure  Fighting  ...  Simulation  Sports  Strategy\n",
              "Year                                 ...                              \n",
              "1980.0       1          0         1  ...           0       0         0\n",
              "1981.0      25          0         0  ...           1       4         0\n",
              "1982.0      18          0         0  ...           0       2         0\n",
              "1983.0       7          1         0  ...           0       1         0\n",
              "1984.0       1          0         0  ...           0       2         0\n",
              "\n",
              "[5 rows x 12 columns]"
            ]
          },
          "metadata": {
            "tags": []
          },
          "execution_count": 38
        }
      ]
    },
    {
      "cell_type": "code",
      "metadata": {
        "colab": {
          "base_uri": "https://localhost:8080/",
          "height": 295
        },
        "id": "emHC5Z5GEPJ9",
        "outputId": "9a7e8902-9b47-45ed-dad6-9b8ca44b5d77"
      },
      "source": [
        "tt = trend_table_gr.plot()\n",
        "plt.title(\"Yearly Game Genre Trend\")\n",
        "plt.show()\n",
        "\n",
        "ttfig = tt.get_figure()\n",
        "ttfig.savefig('yearly_game_genre_trend.png', dpi = 200, bbox_inches='tight', pad_inches=0.3, transparent=True)"
      ],
      "execution_count": 39,
      "outputs": [
        {
          "output_type": "display_data",
          "data": {
            "image/png": "[encoded data removed]",
            "text/plain": [
              "<Figure size 432x288 with 1 Axes>"
            ]
          },
          "metadata": {
            "tags": []
          }
        }
      ]
    },
    {
      "cell_type": "code",
      "metadata": {
        "id": "BnDW3FDijI-B"
      },
      "source": [
        "# 연도별 각 플랫폼에서 출시한 게임 개수"
      ],
      "execution_count": 40,
      "outputs": []
    },
    {
      "cell_type": "code",
      "metadata": {
        "colab": {
          "base_uri": "https://localhost:8080/",
          "height": 312
        },
        "id": "YUEhcOHBnEfd",
        "outputId": "9330337e-1ec3-42ff-98cc-339ce8076875"
      },
      "source": [
        "sales_total = game.loc[game['Total_Sales'] != 0]\n",
        "\n",
        "platform = sns.countplot(x='Platform',data=sales_total, color='#b0b0b0')\n",
        "platform.set_xticklabels(platform.get_xticklabels(), rotation=90, horizontalalignment='right')\n",
        "plt.title('Platform Distribution')\n",
        "plt.show()\n",
        "\n",
        "pffig = platform.get_figure()\n",
        "pffig.savefig('platform_distribution.png', dpi = 200, bbox_inches='tight', pad_inches=0.3, transparent=True)"
      ],
      "execution_count": 41,
      "outputs": [
        {
          "output_type": "display_data",
          "data": {
            "image/png": "[encoded data removed]",
            "text/plain": [
              "<Figure size 432x288 with 1 Axes>"
            ]
          },
          "metadata": {
            "tags": []
          }
        }
      ]
    },
    {
      "cell_type": "code",
      "metadata": {
        "colab": {
          "base_uri": "https://localhost:8080/"
        },
        "id": "0GcR7BRje7D1",
        "outputId": "454b9a0b-baec-4c3a-bd57-b85971b24de0"
      },
      "source": [
        "# platform 종류 파악\n",
        "list = []\n",
        "\n",
        "for i in game['Platform']:\n",
        "    list.append(i)\n",
        "\n",
        "platform_list = []\n",
        "for v in list:\n",
        "    if v not in platform_list:\n",
        "        platform_list.append(v)\n",
        "print(platform_list)"
      ],
      "execution_count": 42,
      "outputs": [
        {
          "output_type": "stream",
          "text": [
            "['DS', 'Wii', 'PSP', 'PS3', 'PC', 'PS', 'GBA', 'PS4', 'PS2', 'XB', 'X360', 'GC', '3DS', '2600', 'SAT', 'GB', 'NES', 'DC', 'N64', 'XOne', 'SNES', 'WiiU', 'PSV', 'GEN', 'SCD', 'WS', 'NG', 'TG16', '3DO', 'GG', 'PCFX']\n"
          ],
          "name": "stdout"
        }
      ]
    },
    {
      "cell_type": "code",
      "metadata": {
        "colab": {
          "base_uri": "https://localhost:8080/",
          "height": 255
        },
        "id": "W6xYjeFPW4mm",
        "outputId": "4a5eb724-64e0-40ea-d187-c871eb6f8c59"
      },
      "source": [
        "trend_pf = game[['Year','Platform']]\n",
        "trend_table_pf = pd.crosstab(trend_pf.Year, trend_pf.Platform)\n",
        "trend_table_pf.head()"
      ],
      "execution_count": 43,
      "outputs": [
        {
          "output_type": "execute_result",
          "data": {
            "text/html": [
              "<div>\n",
              "<style scoped>\n",
              "    .dataframe tbody tr th:only-of-type {\n",
              "        vertical-align: middle;\n",
              "    }\n",
              "\n",
              "    .dataframe tbody tr th {\n",
              "        vertical-align: top;\n",
              "    }\n",
              "\n",
              "    .dataframe thead th {\n",
              "        text-align: right;\n",
              "    }\n",
              "</style>\n",
              "<table border=\"1\" class=\"dataframe\">\n",
              "  <thead>\n",
              "    <tr style=\"text-align: right;\">\n",
              "      <th>Platform</th>\n",
              "      <th>2600</th>\n",
              "      <th>3DO</th>\n",
              "      <th>3DS</th>\n",
              "      <th>DC</th>\n",
              "      <th>DS</th>\n",
              "      <th>GB</th>\n",
              "      <th>GBA</th>\n",
              "      <th>GC</th>\n",
              "      <th>GEN</th>\n",
              "      <th>GG</th>\n",
              "      <th>N64</th>\n",
              "      <th>NES</th>\n",
              "      <th>NG</th>\n",
              "      <th>PC</th>\n",
              "      <th>PCFX</th>\n",
              "      <th>PS</th>\n",
              "      <th>PS2</th>\n",
              "      <th>PS3</th>\n",
              "      <th>PS4</th>\n",
              "      <th>PSP</th>\n",
              "      <th>PSV</th>\n",
              "      <th>SAT</th>\n",
              "      <th>SCD</th>\n",
              "      <th>SNES</th>\n",
              "      <th>TG16</th>\n",
              "      <th>WS</th>\n",
              "      <th>Wii</th>\n",
              "      <th>WiiU</th>\n",
              "      <th>X360</th>\n",
              "      <th>XB</th>\n",
              "      <th>XOne</th>\n",
              "    </tr>\n",
              "    <tr>\n",
              "      <th>Year</th>\n",
              "      <th></th>\n",
              "      <th></th>\n",
              "      <th></th>\n",
              "      <th></th>\n",
              "      <th></th>\n",
              "      <th></th>\n",
              "      <th></th>\n",
              "      <th></th>\n",
              "      <th></th>\n",
              "      <th></th>\n",
              "      <th></th>\n",
              "      <th></th>\n",
              "      <th></th>\n",
              "      <th></th>\n",
              "      <th></th>\n",
              "      <th></th>\n",
              "      <th></th>\n",
              "      <th></th>\n",
              "      <th></th>\n",
              "      <th></th>\n",
              "      <th></th>\n",
              "      <th></th>\n",
              "      <th></th>\n",
              "      <th></th>\n",
              "      <th></th>\n",
              "      <th></th>\n",
              "      <th></th>\n",
              "      <th></th>\n",
              "      <th></th>\n",
              "      <th></th>\n",
              "      <th></th>\n",
              "    </tr>\n",
              "  </thead>\n",
              "  <tbody>\n",
              "    <tr>\n",
              "      <th>1980.0</th>\n",
              "      <td>8</td>\n",
              "      <td>0</td>\n",
              "      <td>0</td>\n",
              "      <td>0</td>\n",
              "      <td>0</td>\n",
              "      <td>0</td>\n",
              "      <td>0</td>\n",
              "      <td>0</td>\n",
              "      <td>0</td>\n",
              "      <td>0</td>\n",
              "      <td>0</td>\n",
              "      <td>0</td>\n",
              "      <td>0</td>\n",
              "      <td>0</td>\n",
              "      <td>0</td>\n",
              "      <td>0</td>\n",
              "      <td>0</td>\n",
              "      <td>0</td>\n",
              "      <td>0</td>\n",
              "      <td>0</td>\n",
              "      <td>0</td>\n",
              "      <td>0</td>\n",
              "      <td>0</td>\n",
              "      <td>0</td>\n",
              "      <td>0</td>\n",
              "      <td>0</td>\n",
              "      <td>0</td>\n",
              "      <td>0</td>\n",
              "      <td>0</td>\n",
              "      <td>0</td>\n",
              "      <td>0</td>\n",
              "    </tr>\n",
              "    <tr>\n",
              "      <th>1981.0</th>\n",
              "      <td>46</td>\n",
              "      <td>0</td>\n",
              "      <td>0</td>\n",
              "      <td>0</td>\n",
              "      <td>0</td>\n",
              "      <td>0</td>\n",
              "      <td>0</td>\n",
              "      <td>0</td>\n",
              "      <td>0</td>\n",
              "      <td>0</td>\n",
              "      <td>0</td>\n",
              "      <td>0</td>\n",
              "      <td>0</td>\n",
              "      <td>0</td>\n",
              "      <td>0</td>\n",
              "      <td>0</td>\n",
              "      <td>0</td>\n",
              "      <td>0</td>\n",
              "      <td>0</td>\n",
              "      <td>0</td>\n",
              "      <td>0</td>\n",
              "      <td>0</td>\n",
              "      <td>0</td>\n",
              "      <td>0</td>\n",
              "      <td>0</td>\n",
              "      <td>0</td>\n",
              "      <td>0</td>\n",
              "      <td>0</td>\n",
              "      <td>0</td>\n",
              "      <td>0</td>\n",
              "      <td>0</td>\n",
              "    </tr>\n",
              "    <tr>\n",
              "      <th>1982.0</th>\n",
              "      <td>36</td>\n",
              "      <td>0</td>\n",
              "      <td>0</td>\n",
              "      <td>0</td>\n",
              "      <td>0</td>\n",
              "      <td>0</td>\n",
              "      <td>0</td>\n",
              "      <td>0</td>\n",
              "      <td>0</td>\n",
              "      <td>0</td>\n",
              "      <td>0</td>\n",
              "      <td>0</td>\n",
              "      <td>0</td>\n",
              "      <td>0</td>\n",
              "      <td>0</td>\n",
              "      <td>0</td>\n",
              "      <td>0</td>\n",
              "      <td>0</td>\n",
              "      <td>0</td>\n",
              "      <td>0</td>\n",
              "      <td>0</td>\n",
              "      <td>0</td>\n",
              "      <td>0</td>\n",
              "      <td>0</td>\n",
              "      <td>0</td>\n",
              "      <td>0</td>\n",
              "      <td>0</td>\n",
              "      <td>0</td>\n",
              "      <td>0</td>\n",
              "      <td>0</td>\n",
              "      <td>0</td>\n",
              "    </tr>\n",
              "    <tr>\n",
              "      <th>1983.0</th>\n",
              "      <td>11</td>\n",
              "      <td>0</td>\n",
              "      <td>0</td>\n",
              "      <td>0</td>\n",
              "      <td>0</td>\n",
              "      <td>0</td>\n",
              "      <td>0</td>\n",
              "      <td>0</td>\n",
              "      <td>0</td>\n",
              "      <td>0</td>\n",
              "      <td>0</td>\n",
              "      <td>6</td>\n",
              "      <td>0</td>\n",
              "      <td>0</td>\n",
              "      <td>0</td>\n",
              "      <td>0</td>\n",
              "      <td>0</td>\n",
              "      <td>0</td>\n",
              "      <td>0</td>\n",
              "      <td>0</td>\n",
              "      <td>0</td>\n",
              "      <td>0</td>\n",
              "      <td>0</td>\n",
              "      <td>0</td>\n",
              "      <td>0</td>\n",
              "      <td>0</td>\n",
              "      <td>0</td>\n",
              "      <td>0</td>\n",
              "      <td>0</td>\n",
              "      <td>0</td>\n",
              "      <td>0</td>\n",
              "    </tr>\n",
              "    <tr>\n",
              "      <th>1984.0</th>\n",
              "      <td>1</td>\n",
              "      <td>0</td>\n",
              "      <td>0</td>\n",
              "      <td>0</td>\n",
              "      <td>0</td>\n",
              "      <td>0</td>\n",
              "      <td>0</td>\n",
              "      <td>0</td>\n",
              "      <td>0</td>\n",
              "      <td>0</td>\n",
              "      <td>0</td>\n",
              "      <td>13</td>\n",
              "      <td>0</td>\n",
              "      <td>0</td>\n",
              "      <td>0</td>\n",
              "      <td>0</td>\n",
              "      <td>0</td>\n",
              "      <td>0</td>\n",
              "      <td>0</td>\n",
              "      <td>0</td>\n",
              "      <td>0</td>\n",
              "      <td>0</td>\n",
              "      <td>0</td>\n",
              "      <td>0</td>\n",
              "      <td>0</td>\n",
              "      <td>0</td>\n",
              "      <td>0</td>\n",
              "      <td>0</td>\n",
              "      <td>0</td>\n",
              "      <td>0</td>\n",
              "      <td>0</td>\n",
              "    </tr>\n",
              "  </tbody>\n",
              "</table>\n",
              "</div>"
            ],
            "text/plain": [
              "Platform  2600  3DO  3DS  DC  DS  GB  GBA  ...  TG16  WS  Wii  WiiU  X360  XB  XOne\n",
              "Year                                       ...                                     \n",
              "1980.0       8    0    0   0   0   0    0  ...     0   0    0     0     0   0     0\n",
              "1981.0      46    0    0   0   0   0    0  ...     0   0    0     0     0   0     0\n",
              "1982.0      36    0    0   0   0   0    0  ...     0   0    0     0     0   0     0\n",
              "1983.0      11    0    0   0   0   0    0  ...     0   0    0     0     0   0     0\n",
              "1984.0       1    0    0   0   0   0    0  ...     0   0    0     0     0   0     0\n",
              "\n",
              "[5 rows x 31 columns]"
            ]
          },
          "metadata": {
            "tags": []
          },
          "execution_count": 43
        }
      ]
    },
    {
      "cell_type": "code",
      "metadata": {
        "colab": {
          "base_uri": "https://localhost:8080/",
          "height": 520
        },
        "id": "NCJYLTdAj2IO",
        "outputId": "4caaf883-c06e-46a7-da4b-057e66b99a70"
      },
      "source": [
        "pf = trend_table_pf.plot()\n",
        "plt.title(\"Yearly Game Genre Trend\")\n",
        "plt.legend(loc='upper left')\n",
        "plt.show()\n",
        "\n",
        "ttfig = tt.get_figure()"
      ],
      "execution_count": 44,
      "outputs": [
        {
          "output_type": "display_data",
          "data": {
            "image/png": "[encoded data removed]",
            "text/plain": [
              "<Figure size 432x288 with 1 Axes>"
            ]
          },
          "metadata": {
            "tags": []
          }
        }
      ]
    },
    {
      "cell_type": "markdown",
      "metadata": {
        "id": "6V5KyYi_6k_h"
      },
      "source": [
        "### 출고량이 많은 게임 분석\n",
        "최근 동향을 알아보기 위해 **2010년 이후 출시**된 게임을 중심으로 분석함"
      ]
    },
    {
      "cell_type": "markdown",
      "metadata": {
        "id": "_v07D2SodJb3"
      },
      "source": [
        "#### 전체적 추세 (total sale 기준)"
      ]
    },
    {
      "cell_type": "code",
      "metadata": {
        "colab": {
          "base_uri": "https://localhost:8080/",
          "height": 513
        },
        "id": "Ba2j3VdaV9zN",
        "outputId": "4c69cab1-1a3f-421f-e9ac-73b1c45ea12f"
      },
      "source": [
        "recent_game = game.sort_values(by='Year', ascending=False)\n",
        "recent_game = recent_game.loc[recent_game['Year'] >= 2010]\n",
        "recent_game.head()"
      ],
      "execution_count": 45,
      "outputs": [
        {
          "output_type": "execute_result",
          "data": {
            "text/html": [
              "<div>\n",
              "<style scoped>\n",
              "    .dataframe tbody tr th:only-of-type {\n",
              "        vertical-align: middle;\n",
              "    }\n",
              "\n",
              "    .dataframe tbody tr th {\n",
              "        vertical-align: top;\n",
              "    }\n",
              "\n",
              "    .dataframe thead th {\n",
              "        text-align: right;\n",
              "    }\n",
              "</style>\n",
              "<table border=\"1\" class=\"dataframe\">\n",
              "  <thead>\n",
              "    <tr style=\"text-align: right;\">\n",
              "      <th></th>\n",
              "      <th>Name</th>\n",
              "      <th>Platform</th>\n",
              "      <th>Year</th>\n",
              "      <th>Genre</th>\n",
              "      <th>Publisher</th>\n",
              "      <th>NA_Sales</th>\n",
              "      <th>EU_Sales</th>\n",
              "      <th>JP_Sales</th>\n",
              "      <th>Other_Sales</th>\n",
              "      <th>Total_Sales</th>\n",
              "      <th>range</th>\n",
              "    </tr>\n",
              "  </thead>\n",
              "  <tbody>\n",
              "    <tr>\n",
              "      <th>6776</th>\n",
              "      <td>Imagine: Makeup Artist</td>\n",
              "      <td>DS</td>\n",
              "      <td>2020.0</td>\n",
              "      <td>Simulation</td>\n",
              "      <td>Ubisoft</td>\n",
              "      <td>0.27</td>\n",
              "      <td>0.0</td>\n",
              "      <td>0.00</td>\n",
              "      <td>0.02</td>\n",
              "      <td>0.29</td>\n",
              "      <td>NaN</td>\n",
              "    </tr>\n",
              "    <tr>\n",
              "      <th>14937</th>\n",
              "      <td>Phantasy Star Online 2 Episode 4: Deluxe Package</td>\n",
              "      <td>PSV</td>\n",
              "      <td>2017.0</td>\n",
              "      <td>Role-Playing</td>\n",
              "      <td>Sega</td>\n",
              "      <td>0.00</td>\n",
              "      <td>0.0</td>\n",
              "      <td>0.01</td>\n",
              "      <td>0.00</td>\n",
              "      <td>0.01</td>\n",
              "      <td>2010~</td>\n",
              "    </tr>\n",
              "    <tr>\n",
              "      <th>9929</th>\n",
              "      <td>Phantasy Star Online 2 Episode 4: Deluxe Package</td>\n",
              "      <td>PS4</td>\n",
              "      <td>2017.0</td>\n",
              "      <td>Role-Playing</td>\n",
              "      <td>Sega</td>\n",
              "      <td>0.00</td>\n",
              "      <td>0.0</td>\n",
              "      <td>0.03</td>\n",
              "      <td>0.00</td>\n",
              "      <td>0.03</td>\n",
              "      <td>2010~</td>\n",
              "    </tr>\n",
              "    <tr>\n",
              "      <th>5206</th>\n",
              "      <td>Brothers Conflict: Precious Baby</td>\n",
              "      <td>PSV</td>\n",
              "      <td>2017.0</td>\n",
              "      <td>Action</td>\n",
              "      <td>Idea Factory</td>\n",
              "      <td>0.00</td>\n",
              "      <td>0.0</td>\n",
              "      <td>0.01</td>\n",
              "      <td>0.00</td>\n",
              "      <td>0.01</td>\n",
              "      <td>2010~</td>\n",
              "    </tr>\n",
              "    <tr>\n",
              "      <th>13142</th>\n",
              "      <td>TV Anime Idolm@ster: Cinderella Girls G4U! Pac...</td>\n",
              "      <td>PS3</td>\n",
              "      <td>2016.0</td>\n",
              "      <td>Misc</td>\n",
              "      <td>Namco Bandai Games</td>\n",
              "      <td>0.00</td>\n",
              "      <td>0.0</td>\n",
              "      <td>0.02</td>\n",
              "      <td>0.00</td>\n",
              "      <td>0.02</td>\n",
              "      <td>2010~</td>\n",
              "    </tr>\n",
              "  </tbody>\n",
              "</table>\n",
              "</div>"
            ],
            "text/plain": [
              "                                                    Name  ...  range\n",
              "6776                              Imagine: Makeup Artist  ...    NaN\n",
              "14937   Phantasy Star Online 2 Episode 4: Deluxe Package  ...  2010~\n",
              "9929    Phantasy Star Online 2 Episode 4: Deluxe Package  ...  2010~\n",
              "5206                    Brothers Conflict: Precious Baby  ...  2010~\n",
              "13142  TV Anime Idolm@ster: Cinderella Girls G4U! Pac...  ...  2010~\n",
              "\n",
              "[5 rows x 11 columns]"
            ]
          },
          "metadata": {
            "tags": []
          },
          "execution_count": 45
        }
      ]
    },
    {
      "cell_type": "code",
      "metadata": {
        "colab": {
          "base_uri": "https://localhost:8080/",
          "height": 1000
        },
        "id": "_bNKuJlN0HRd",
        "outputId": "5e1af7b0-a6d5-4308-ad84-ae912f92b207"
      },
      "source": [
        "sorted_game_total = recent_game.sort_values(by='Total_Sales', ascending=False)\n",
        "top20_total = sorted_game_total.head(20)\n",
        "top20_total"
      ],
      "execution_count": 46,
      "outputs": [
        {
          "output_type": "execute_result",
          "data": {
            "text/html": [
              "<div>\n",
              "<style scoped>\n",
              "    .dataframe tbody tr th:only-of-type {\n",
              "        vertical-align: middle;\n",
              "    }\n",
              "\n",
              "    .dataframe tbody tr th {\n",
              "        vertical-align: top;\n",
              "    }\n",
              "\n",
              "    .dataframe thead th {\n",
              "        text-align: right;\n",
              "    }\n",
              "</style>\n",
              "<table border=\"1\" class=\"dataframe\">\n",
              "  <thead>\n",
              "    <tr style=\"text-align: right;\">\n",
              "      <th></th>\n",
              "      <th>Name</th>\n",
              "      <th>Platform</th>\n",
              "      <th>Year</th>\n",
              "      <th>Genre</th>\n",
              "      <th>Publisher</th>\n",
              "      <th>NA_Sales</th>\n",
              "      <th>EU_Sales</th>\n",
              "      <th>JP_Sales</th>\n",
              "      <th>Other_Sales</th>\n",
              "      <th>Total_Sales</th>\n",
              "      <th>range</th>\n",
              "    </tr>\n",
              "  </thead>\n",
              "  <tbody>\n",
              "    <tr>\n",
              "      <th>4260</th>\n",
              "      <td>Kinect Adventures!</td>\n",
              "      <td>X360</td>\n",
              "      <td>2010.0</td>\n",
              "      <td>Misc</td>\n",
              "      <td>Microsoft Game Studios</td>\n",
              "      <td>14.97</td>\n",
              "      <td>4.94</td>\n",
              "      <td>0.24</td>\n",
              "      <td>1.67</td>\n",
              "      <td>21.82</td>\n",
              "      <td>2010~</td>\n",
              "    </tr>\n",
              "    <tr>\n",
              "      <th>3420</th>\n",
              "      <td>Grand Theft Auto V</td>\n",
              "      <td>PS3</td>\n",
              "      <td>2013.0</td>\n",
              "      <td>Action</td>\n",
              "      <td>Take-Two Interactive</td>\n",
              "      <td>7.01</td>\n",
              "      <td>9.27</td>\n",
              "      <td>0.97</td>\n",
              "      <td>4.14</td>\n",
              "      <td>21.39</td>\n",
              "      <td>2010~</td>\n",
              "    </tr>\n",
              "    <tr>\n",
              "      <th>10714</th>\n",
              "      <td>Grand Theft Auto V</td>\n",
              "      <td>X360</td>\n",
              "      <td>2013.0</td>\n",
              "      <td>Action</td>\n",
              "      <td>Take-Two Interactive</td>\n",
              "      <td>9.63</td>\n",
              "      <td>5.31</td>\n",
              "      <td>0.06</td>\n",
              "      <td>1.38</td>\n",
              "      <td>16.38</td>\n",
              "      <td>2010~</td>\n",
              "    </tr>\n",
              "    <tr>\n",
              "      <th>10429</th>\n",
              "      <td>Pokemon Black/Pokemon White</td>\n",
              "      <td>DS</td>\n",
              "      <td>2010.0</td>\n",
              "      <td>Role-Playing</td>\n",
              "      <td>Nintendo</td>\n",
              "      <td>5.57</td>\n",
              "      <td>3.28</td>\n",
              "      <td>5.65</td>\n",
              "      <td>0.82</td>\n",
              "      <td>15.32</td>\n",
              "      <td>2010~</td>\n",
              "    </tr>\n",
              "    <tr>\n",
              "      <th>2762</th>\n",
              "      <td>Call of Duty: Modern Warfare 3</td>\n",
              "      <td>X360</td>\n",
              "      <td>2011.0</td>\n",
              "      <td>Shooter</td>\n",
              "      <td>Activision</td>\n",
              "      <td>9.03</td>\n",
              "      <td>4.28</td>\n",
              "      <td>0.13</td>\n",
              "      <td>1.32</td>\n",
              "      <td>14.76</td>\n",
              "      <td>2010~</td>\n",
              "    </tr>\n",
              "    <tr>\n",
              "      <th>6130</th>\n",
              "      <td>Call of Duty: Black Ops</td>\n",
              "      <td>X360</td>\n",
              "      <td>2010.0</td>\n",
              "      <td>Shooter</td>\n",
              "      <td>Activision</td>\n",
              "      <td>9.67</td>\n",
              "      <td>3.73</td>\n",
              "      <td>0.11</td>\n",
              "      <td>1.13</td>\n",
              "      <td>14.64</td>\n",
              "      <td>2010~</td>\n",
              "    </tr>\n",
              "    <tr>\n",
              "      <th>8909</th>\n",
              "      <td>Call of Duty: Black Ops 3</td>\n",
              "      <td>PS4</td>\n",
              "      <td>2015.0</td>\n",
              "      <td>Shooter</td>\n",
              "      <td>Activision</td>\n",
              "      <td>5.77</td>\n",
              "      <td>5.81</td>\n",
              "      <td>0.35</td>\n",
              "      <td>2.31</td>\n",
              "      <td>14.24</td>\n",
              "      <td>2010~</td>\n",
              "    </tr>\n",
              "    <tr>\n",
              "      <th>4159</th>\n",
              "      <td>Call of Duty: Black Ops II</td>\n",
              "      <td>PS3</td>\n",
              "      <td>2012.0</td>\n",
              "      <td>Shooter</td>\n",
              "      <td>Activision</td>\n",
              "      <td>4.99</td>\n",
              "      <td>5.88</td>\n",
              "      <td>0.65</td>\n",
              "      <td>2.52</td>\n",
              "      <td>14.04</td>\n",
              "      <td>2010~</td>\n",
              "    </tr>\n",
              "    <tr>\n",
              "      <th>6268</th>\n",
              "      <td>Call of Duty: Black Ops II</td>\n",
              "      <td>X360</td>\n",
              "      <td>2012.0</td>\n",
              "      <td>Shooter</td>\n",
              "      <td>Activision</td>\n",
              "      <td>8.25</td>\n",
              "      <td>4.30</td>\n",
              "      <td>0.07</td>\n",
              "      <td>1.12</td>\n",
              "      <td>13.74</td>\n",
              "      <td>2010~</td>\n",
              "    </tr>\n",
              "    <tr>\n",
              "      <th>13844</th>\n",
              "      <td>Call of Duty: Modern Warfare 3</td>\n",
              "      <td>PS3</td>\n",
              "      <td>2011.0</td>\n",
              "      <td>Shooter</td>\n",
              "      <td>Activision</td>\n",
              "      <td>5.54</td>\n",
              "      <td>5.82</td>\n",
              "      <td>0.49</td>\n",
              "      <td>1.62</td>\n",
              "      <td>13.47</td>\n",
              "      <td>2010~</td>\n",
              "    </tr>\n",
              "    <tr>\n",
              "      <th>9751</th>\n",
              "      <td>Call of Duty: Black Ops</td>\n",
              "      <td>PS3</td>\n",
              "      <td>2010.0</td>\n",
              "      <td>Shooter</td>\n",
              "      <td>Activision</td>\n",
              "      <td>5.98</td>\n",
              "      <td>4.44</td>\n",
              "      <td>0.48</td>\n",
              "      <td>1.83</td>\n",
              "      <td>12.73</td>\n",
              "      <td>2010~</td>\n",
              "    </tr>\n",
              "    <tr>\n",
              "      <th>10920</th>\n",
              "      <td>Mario Kart 7</td>\n",
              "      <td>3DS</td>\n",
              "      <td>2011.0</td>\n",
              "      <td>Racing</td>\n",
              "      <td>Nintendo</td>\n",
              "      <td>4.74</td>\n",
              "      <td>3.91</td>\n",
              "      <td>2.67</td>\n",
              "      <td>0.89</td>\n",
              "      <td>12.21</td>\n",
              "      <td>2010~</td>\n",
              "    </tr>\n",
              "    <tr>\n",
              "      <th>1978</th>\n",
              "      <td>Grand Theft Auto V</td>\n",
              "      <td>PS4</td>\n",
              "      <td>2014.0</td>\n",
              "      <td>Action</td>\n",
              "      <td>Take-Two Interactive</td>\n",
              "      <td>3.80</td>\n",
              "      <td>5.81</td>\n",
              "      <td>0.36</td>\n",
              "      <td>2.02</td>\n",
              "      <td>11.99</td>\n",
              "      <td>2010~</td>\n",
              "    </tr>\n",
              "    <tr>\n",
              "      <th>4170</th>\n",
              "      <td>Pokemon Omega Ruby/Pokemon Alpha Sapphire</td>\n",
              "      <td>3DS</td>\n",
              "      <td>2014.0</td>\n",
              "      <td>Role-Playing</td>\n",
              "      <td>Nintendo</td>\n",
              "      <td>4.23</td>\n",
              "      <td>3.37</td>\n",
              "      <td>3.08</td>\n",
              "      <td>0.65</td>\n",
              "      <td>11.33</td>\n",
              "      <td>2010~</td>\n",
              "    </tr>\n",
              "    <tr>\n",
              "      <th>12384</th>\n",
              "      <td>Super Mario 3D Land</td>\n",
              "      <td>3DS</td>\n",
              "      <td>2011.0</td>\n",
              "      <td>Platform</td>\n",
              "      <td>Nintendo</td>\n",
              "      <td>4.89</td>\n",
              "      <td>2.99</td>\n",
              "      <td>2.13</td>\n",
              "      <td>0.78</td>\n",
              "      <td>10.79</td>\n",
              "      <td>2010~</td>\n",
              "    </tr>\n",
              "    <tr>\n",
              "      <th>6099</th>\n",
              "      <td>Gran Turismo 5</td>\n",
              "      <td>PS3</td>\n",
              "      <td>2010.0</td>\n",
              "      <td>Racing</td>\n",
              "      <td>Sony Computer Entertainment</td>\n",
              "      <td>2.96</td>\n",
              "      <td>4.88</td>\n",
              "      <td>0.81</td>\n",
              "      <td>2.12</td>\n",
              "      <td>10.77</td>\n",
              "      <td>2010~</td>\n",
              "    </tr>\n",
              "    <tr>\n",
              "      <th>9733</th>\n",
              "      <td>Etrian Odyssey IV: Legends of the Titans</td>\n",
              "      <td>3DS</td>\n",
              "      <td>2012.0</td>\n",
              "      <td>Role-Playing</td>\n",
              "      <td>Atlus</td>\n",
              "      <td>0.12</td>\n",
              "      <td>0.05</td>\n",
              "      <td>0.20</td>\n",
              "      <td>10.00</td>\n",
              "      <td>10.37</td>\n",
              "      <td>2010~</td>\n",
              "    </tr>\n",
              "    <tr>\n",
              "      <th>220</th>\n",
              "      <td>Just Dance 3</td>\n",
              "      <td>Wii</td>\n",
              "      <td>2011.0</td>\n",
              "      <td>Misc</td>\n",
              "      <td>Ubisoft</td>\n",
              "      <td>6.05</td>\n",
              "      <td>3.15</td>\n",
              "      <td>0.00</td>\n",
              "      <td>1.07</td>\n",
              "      <td>10.27</td>\n",
              "      <td>2010~</td>\n",
              "    </tr>\n",
              "    <tr>\n",
              "      <th>5500</th>\n",
              "      <td>Call of Duty: Ghosts</td>\n",
              "      <td>X360</td>\n",
              "      <td>2013.0</td>\n",
              "      <td>Shooter</td>\n",
              "      <td>Activision</td>\n",
              "      <td>6.72</td>\n",
              "      <td>2.63</td>\n",
              "      <td>0.04</td>\n",
              "      <td>0.82</td>\n",
              "      <td>10.21</td>\n",
              "      <td>2010~</td>\n",
              "    </tr>\n",
              "    <tr>\n",
              "      <th>11753</th>\n",
              "      <td>MLB 11: The Show</td>\n",
              "      <td>PSP</td>\n",
              "      <td>2011.0</td>\n",
              "      <td>Sports</td>\n",
              "      <td>Sony Computer Entertainment</td>\n",
              "      <td>0.15</td>\n",
              "      <td>0.00</td>\n",
              "      <td>0.00</td>\n",
              "      <td>10.00</td>\n",
              "      <td>10.15</td>\n",
              "      <td>2010~</td>\n",
              "    </tr>\n",
              "  </tbody>\n",
              "</table>\n",
              "</div>"
            ],
            "text/plain": [
              "                                            Name Platform  ...  Total_Sales  range\n",
              "4260                          Kinect Adventures!     X360  ...        21.82  2010~\n",
              "3420                          Grand Theft Auto V      PS3  ...        21.39  2010~\n",
              "10714                         Grand Theft Auto V     X360  ...        16.38  2010~\n",
              "10429                Pokemon Black/Pokemon White       DS  ...        15.32  2010~\n",
              "2762              Call of Duty: Modern Warfare 3     X360  ...        14.76  2010~\n",
              "6130                     Call of Duty: Black Ops     X360  ...        14.64  2010~\n",
              "8909                   Call of Duty: Black Ops 3      PS4  ...        14.24  2010~\n",
              "4159                  Call of Duty: Black Ops II      PS3  ...        14.04  2010~\n",
              "6268                  Call of Duty: Black Ops II     X360  ...        13.74  2010~\n",
              "13844             Call of Duty: Modern Warfare 3      PS3  ...        13.47  2010~\n",
              "9751                     Call of Duty: Black Ops      PS3  ...        12.73  2010~\n",
              "10920                               Mario Kart 7      3DS  ...        12.21  2010~\n",
              "1978                          Grand Theft Auto V      PS4  ...        11.99  2010~\n",
              "4170   Pokemon Omega Ruby/Pokemon Alpha Sapphire      3DS  ...        11.33  2010~\n",
              "12384                        Super Mario 3D Land      3DS  ...        10.79  2010~\n",
              "6099                              Gran Turismo 5      PS3  ...        10.77  2010~\n",
              "9733    Etrian Odyssey IV: Legends of the Titans      3DS  ...        10.37  2010~\n",
              "220                                 Just Dance 3      Wii  ...        10.27  2010~\n",
              "5500                        Call of Duty: Ghosts     X360  ...        10.21  2010~\n",
              "11753                           MLB 11: The Show      PSP  ...        10.15  2010~\n",
              "\n",
              "[20 rows x 11 columns]"
            ]
          },
          "metadata": {
            "tags": []
          },
          "execution_count": 46
        }
      ]
    },
    {
      "cell_type": "markdown",
      "metadata": {
        "id": "k2iKtkFIu5_Q"
      },
      "source": [
        "### 장르"
      ]
    },
    {
      "cell_type": "code",
      "metadata": {
        "colab": {
          "base_uri": "https://localhost:8080/",
          "height": 336
        },
        "id": "oNWnY6c2XBns",
        "outputId": "6d1c2756-ee57-4466-c4e5-68e69632b8c0"
      },
      "source": [
        "total20 = sns.countplot(x='Genre',data=top20_total, order=Genre_list)\n",
        "total20.set_xticklabels(total20.get_xticklabels(), rotation=45, horizontalalignment='right')\n",
        "plt.title('Genre Distribution of World top 20 Games')\n",
        "plt.show()\n",
        "\n",
        "tt20fig = total20.get_figure()\n",
        "tt20fig.savefig('genre_distribution_world20.png', dpi = 200, bbox_inches='tight', pad_inches=0.3, transparent=True)"
      ],
      "execution_count": 47,
      "outputs": [
        {
          "output_type": "display_data",
          "data": {
            "image/png": "[encoded data removed]",
            "text/plain": [
              "<Figure size 432x288 with 1 Axes>"
            ]
          },
          "metadata": {
            "tags": []
          }
        }
      ]
    },
    {
      "cell_type": "code",
      "metadata": {
        "colab": {
          "base_uri": "https://localhost:8080/"
        },
        "id": "QW5M-_ayvMfK",
        "outputId": "c280999b-ad9f-41bf-f6b1-0857d95d3a8f"
      },
      "source": [
        "def ratio_top_20_tt(genre):\n",
        "    ratio = top20_total.loc[top20_total['Genre'] == genre]\n",
        "    return ratio['Total_Sales'].sum()\n",
        "\n",
        "print(top20_total['Total_Sales'].sum())\n",
        "print(ratio_top_20_tt('Action'), ratio_top_20_tt('Misc'), ratio_top_20_tt('Platform'), ratio_top_20_tt('Racing'), ratio_top_20_tt('Role-Playing'), ratio_top_20_tt('Shooter'), ratio_top_20_tt('Sports'))"
      ],
      "execution_count": 91,
      "outputs": [
        {
          "output_type": "stream",
          "text": [
            "270.62\n",
            "49.75999999999999 32.09 10.79 22.98 37.019999999999996 107.83000000000001 10.15\n"
          ],
          "name": "stdout"
        }
      ]
    },
    {
      "cell_type": "markdown",
      "metadata": {
        "id": "fmHb5y2Zu_4z"
      },
      "source": [
        "### 플랫폼"
      ]
    },
    {
      "cell_type": "code",
      "metadata": {
        "colab": {
          "base_uri": "https://localhost:8080/",
          "height": 311
        },
        "id": "W3w8wYQKY199",
        "outputId": "28d7e38a-9c45-417f-efc8-86aef179f93e"
      },
      "source": [
        "total20p = sns.countplot(x='Platform',data=top20_total, color='#b0b0b0')\n",
        "total20p.set_xticklabels(total20p.get_xticklabels(), rotation=45, horizontalalignment='right')\n",
        "plt.title('Platform Distribution of World top 20 Games')\n",
        "plt.show()\n",
        "\n",
        "tt20pfig = total20p.get_figure()\n",
        "tt20pfig.savefig('platform_distribution_world20.png', dpi = 200, bbox_inches='tight', pad_inches=0.3, transparent=True)"
      ],
      "execution_count": 48,
      "outputs": [
        {
          "output_type": "display_data",
          "data": {
            "image/png": "[encoded data removed]",
            "text/plain": [
              "<Figure size 432x288 with 1 Axes>"
            ]
          },
          "metadata": {
            "tags": []
          }
        }
      ]
    },
    {
      "cell_type": "code",
      "metadata": {
        "colab": {
          "base_uri": "https://localhost:8080/"
        },
        "id": "j_jXP82dvuRu",
        "outputId": "24e1a1e9-13a3-484c-8377-ae6b873ebfb9"
      },
      "source": [
        "#XBOX = ['X360']\n",
        "#Playstation = ['PS3', 'PS4', 'PSP']\n",
        "#Nintendo = ['Wii','DS','3DS']\n",
        "\n",
        "x360_tt = top20_total.loc[top20_total['Platform'] == 'X360']\n",
        "ps3_tt = top20_total.loc[top20_total['Platform'] == 'PS3']\n",
        "ps4_tt = top20_total.loc[top20_total['Platform'] == 'PS4']\n",
        "psp_tt = top20_total.loc[top20_total['Platform'] == 'PSP']\n",
        "wii_tt = top20_total.loc[top20_total['Platform'] == 'Wii']\n",
        "ds_tt = top20_total.loc[top20_total['Platform'] == 'DS']\n",
        "ds3_tt = top20_total.loc[top20_total['Platform'] == '3DS']\n",
        "\n",
        "xbox_tt = x360_tt\n",
        "playstation_tt = pd.concat([ps3_tt, ps4_tt, psp_tt])\n",
        "nintendo_tt = pd.concat([wii_tt, ds_tt, ds3_tt])\n",
        "\n",
        "def sum_pf_tt(dataframe):\n",
        "    return dataframe['Total_Sales'].sum()\n",
        "\n",
        "tt_pf_sales = top20_total['Total_Sales'].sum()\n",
        "print(tt_pf_sales)\n",
        "print(sum_pf_tt(xbox_tt) + sum_pf_tt(playstation_tt) + sum_pf_tt(nintendo_tt))\n",
        "print(sum_pf_tt(xbox_tt), sum_pf_tt(playstation_tt),sum_pf_tt(nintendo_tt))"
      ],
      "execution_count": 92,
      "outputs": [
        {
          "output_type": "stream",
          "text": [
            "270.62\n",
            "270.62\n",
            "91.55000000000001 108.78 70.28999999999999\n"
          ],
          "name": "stdout"
        }
      ]
    },
    {
      "cell_type": "code",
      "metadata": {
        "colab": {
          "base_uri": "https://localhost:8080/",
          "height": 248
        },
        "id": "KIMCQJDxySR8",
        "outputId": "d13c8958-5bf7-4118-a922-835d32e67d99"
      },
      "source": [
        "ratio_pf_tt = [sum_pf_tt(xbox_tt)/tt_pf_sales, sum_pf_tt(playstation_tt)/tt_pf_sales,sum_pf_tt(nintendo_tt)/tt_pf_sales]\n",
        "label = ['X-BOX', 'Playstation','Nintendo']\n",
        "\n",
        "plt.pie(ratio_pf_tt, labels=label, shadow=True, startangle=90)\n",
        "plt.show()"
      ],
      "execution_count": 95,
      "outputs": [
        {
          "output_type": "display_data",
          "data": {
            "image/png": "[encoded data removed]",
            "text/plain": [
              "<Figure size 432x288 with 1 Axes>"
            ]
          },
          "metadata": {
            "tags": []
          }
        }
      ]
    },
    {
      "cell_type": "markdown",
      "metadata": {
        "id": "o-qkkWrGdYWm"
      },
      "source": [
        "#### 북미 지역 추세"
      ]
    },
    {
      "cell_type": "code",
      "metadata": {
        "colab": {
          "base_uri": "https://localhost:8080/",
          "height": 1000
        },
        "id": "_anIOYpmWTbe",
        "outputId": "6a2f1286-e4d5-4cfd-e269-fcbeb487d987"
      },
      "source": [
        "sorted_game_NA = recent_game.sort_values(by='NA_Sales', ascending=False)\n",
        "top20_NA = sorted_game_NA.head(20)\n",
        "top20_NA"
      ],
      "execution_count": 49,
      "outputs": [
        {
          "output_type": "execute_result",
          "data": {
            "text/html": [
              "<div>\n",
              "<style scoped>\n",
              "    .dataframe tbody tr th:only-of-type {\n",
              "        vertical-align: middle;\n",
              "    }\n",
              "\n",
              "    .dataframe tbody tr th {\n",
              "        vertical-align: top;\n",
              "    }\n",
              "\n",
              "    .dataframe thead th {\n",
              "        text-align: right;\n",
              "    }\n",
              "</style>\n",
              "<table border=\"1\" class=\"dataframe\">\n",
              "  <thead>\n",
              "    <tr style=\"text-align: right;\">\n",
              "      <th></th>\n",
              "      <th>Name</th>\n",
              "      <th>Platform</th>\n",
              "      <th>Year</th>\n",
              "      <th>Genre</th>\n",
              "      <th>Publisher</th>\n",
              "      <th>NA_Sales</th>\n",
              "      <th>EU_Sales</th>\n",
              "      <th>JP_Sales</th>\n",
              "      <th>Other_Sales</th>\n",
              "      <th>Total_Sales</th>\n",
              "      <th>range</th>\n",
              "    </tr>\n",
              "  </thead>\n",
              "  <tbody>\n",
              "    <tr>\n",
              "      <th>4260</th>\n",
              "      <td>Kinect Adventures!</td>\n",
              "      <td>X360</td>\n",
              "      <td>2010.0</td>\n",
              "      <td>Misc</td>\n",
              "      <td>Microsoft Game Studios</td>\n",
              "      <td>14.97</td>\n",
              "      <td>4.94</td>\n",
              "      <td>0.24</td>\n",
              "      <td>1.67</td>\n",
              "      <td>21.82</td>\n",
              "      <td>2010~</td>\n",
              "    </tr>\n",
              "    <tr>\n",
              "      <th>12099</th>\n",
              "      <td>The Cages: Pro Style Batting Practice</td>\n",
              "      <td>Wii</td>\n",
              "      <td>2010.0</td>\n",
              "      <td>Sports</td>\n",
              "      <td>Konami Digital Entertainment</td>\n",
              "      <td>10.00</td>\n",
              "      <td>0.00</td>\n",
              "      <td>0.00</td>\n",
              "      <td>0.00</td>\n",
              "      <td>10.00</td>\n",
              "      <td>2010~</td>\n",
              "    </tr>\n",
              "    <tr>\n",
              "      <th>6130</th>\n",
              "      <td>Call of Duty: Black Ops</td>\n",
              "      <td>X360</td>\n",
              "      <td>2010.0</td>\n",
              "      <td>Shooter</td>\n",
              "      <td>Activision</td>\n",
              "      <td>9.67</td>\n",
              "      <td>3.73</td>\n",
              "      <td>0.11</td>\n",
              "      <td>1.13</td>\n",
              "      <td>14.64</td>\n",
              "      <td>2010~</td>\n",
              "    </tr>\n",
              "    <tr>\n",
              "      <th>10714</th>\n",
              "      <td>Grand Theft Auto V</td>\n",
              "      <td>X360</td>\n",
              "      <td>2013.0</td>\n",
              "      <td>Action</td>\n",
              "      <td>Take-Two Interactive</td>\n",
              "      <td>9.63</td>\n",
              "      <td>5.31</td>\n",
              "      <td>0.06</td>\n",
              "      <td>1.38</td>\n",
              "      <td>16.38</td>\n",
              "      <td>2010~</td>\n",
              "    </tr>\n",
              "    <tr>\n",
              "      <th>2762</th>\n",
              "      <td>Call of Duty: Modern Warfare 3</td>\n",
              "      <td>X360</td>\n",
              "      <td>2011.0</td>\n",
              "      <td>Shooter</td>\n",
              "      <td>Activision</td>\n",
              "      <td>9.03</td>\n",
              "      <td>4.28</td>\n",
              "      <td>0.13</td>\n",
              "      <td>1.32</td>\n",
              "      <td>14.76</td>\n",
              "      <td>2010~</td>\n",
              "    </tr>\n",
              "    <tr>\n",
              "      <th>6268</th>\n",
              "      <td>Call of Duty: Black Ops II</td>\n",
              "      <td>X360</td>\n",
              "      <td>2012.0</td>\n",
              "      <td>Shooter</td>\n",
              "      <td>Activision</td>\n",
              "      <td>8.25</td>\n",
              "      <td>4.30</td>\n",
              "      <td>0.07</td>\n",
              "      <td>1.12</td>\n",
              "      <td>13.74</td>\n",
              "      <td>2010~</td>\n",
              "    </tr>\n",
              "    <tr>\n",
              "      <th>12362</th>\n",
              "      <td>Halo: Reach</td>\n",
              "      <td>X360</td>\n",
              "      <td>2010.0</td>\n",
              "      <td>Shooter</td>\n",
              "      <td>Microsoft Game Studios</td>\n",
              "      <td>7.03</td>\n",
              "      <td>1.98</td>\n",
              "      <td>0.08</td>\n",
              "      <td>0.78</td>\n",
              "      <td>9.87</td>\n",
              "      <td>2010~</td>\n",
              "    </tr>\n",
              "    <tr>\n",
              "      <th>3420</th>\n",
              "      <td>Grand Theft Auto V</td>\n",
              "      <td>PS3</td>\n",
              "      <td>2013.0</td>\n",
              "      <td>Action</td>\n",
              "      <td>Take-Two Interactive</td>\n",
              "      <td>7.01</td>\n",
              "      <td>9.27</td>\n",
              "      <td>0.97</td>\n",
              "      <td>4.14</td>\n",
              "      <td>21.39</td>\n",
              "      <td>2010~</td>\n",
              "    </tr>\n",
              "    <tr>\n",
              "      <th>5500</th>\n",
              "      <td>Call of Duty: Ghosts</td>\n",
              "      <td>X360</td>\n",
              "      <td>2013.0</td>\n",
              "      <td>Shooter</td>\n",
              "      <td>Activision</td>\n",
              "      <td>6.72</td>\n",
              "      <td>2.63</td>\n",
              "      <td>0.04</td>\n",
              "      <td>0.82</td>\n",
              "      <td>10.21</td>\n",
              "      <td>2010~</td>\n",
              "    </tr>\n",
              "    <tr>\n",
              "      <th>14297</th>\n",
              "      <td>Halo 4</td>\n",
              "      <td>X360</td>\n",
              "      <td>2012.0</td>\n",
              "      <td>Shooter</td>\n",
              "      <td>Microsoft Game Studios</td>\n",
              "      <td>6.63</td>\n",
              "      <td>2.36</td>\n",
              "      <td>0.04</td>\n",
              "      <td>0.73</td>\n",
              "      <td>9.76</td>\n",
              "      <td>2010~</td>\n",
              "    </tr>\n",
              "    <tr>\n",
              "      <th>220</th>\n",
              "      <td>Just Dance 3</td>\n",
              "      <td>Wii</td>\n",
              "      <td>2011.0</td>\n",
              "      <td>Misc</td>\n",
              "      <td>Ubisoft</td>\n",
              "      <td>6.05</td>\n",
              "      <td>3.15</td>\n",
              "      <td>0.00</td>\n",
              "      <td>1.07</td>\n",
              "      <td>10.27</td>\n",
              "      <td>2010~</td>\n",
              "    </tr>\n",
              "    <tr>\n",
              "      <th>9751</th>\n",
              "      <td>Call of Duty: Black Ops</td>\n",
              "      <td>PS3</td>\n",
              "      <td>2010.0</td>\n",
              "      <td>Shooter</td>\n",
              "      <td>Activision</td>\n",
              "      <td>5.98</td>\n",
              "      <td>4.44</td>\n",
              "      <td>0.48</td>\n",
              "      <td>1.83</td>\n",
              "      <td>12.73</td>\n",
              "      <td>2010~</td>\n",
              "    </tr>\n",
              "    <tr>\n",
              "      <th>9067</th>\n",
              "      <td>Just Dance 2</td>\n",
              "      <td>Wii</td>\n",
              "      <td>2010.0</td>\n",
              "      <td>Misc</td>\n",
              "      <td>Ubisoft</td>\n",
              "      <td>5.84</td>\n",
              "      <td>2.89</td>\n",
              "      <td>0.01</td>\n",
              "      <td>0.78</td>\n",
              "      <td>9.52</td>\n",
              "      <td>2010~</td>\n",
              "    </tr>\n",
              "    <tr>\n",
              "      <th>8909</th>\n",
              "      <td>Call of Duty: Black Ops 3</td>\n",
              "      <td>PS4</td>\n",
              "      <td>2015.0</td>\n",
              "      <td>Shooter</td>\n",
              "      <td>Activision</td>\n",
              "      <td>5.77</td>\n",
              "      <td>5.81</td>\n",
              "      <td>0.35</td>\n",
              "      <td>2.31</td>\n",
              "      <td>14.24</td>\n",
              "      <td>2010~</td>\n",
              "    </tr>\n",
              "    <tr>\n",
              "      <th>9820</th>\n",
              "      <td>Minecraft</td>\n",
              "      <td>X360</td>\n",
              "      <td>2013.0</td>\n",
              "      <td>Misc</td>\n",
              "      <td>Microsoft Game Studios</td>\n",
              "      <td>5.58</td>\n",
              "      <td>2.83</td>\n",
              "      <td>0.02</td>\n",
              "      <td>0.77</td>\n",
              "      <td>9.20</td>\n",
              "      <td>2010~</td>\n",
              "    </tr>\n",
              "    <tr>\n",
              "      <th>10429</th>\n",
              "      <td>Pokemon Black/Pokemon White</td>\n",
              "      <td>DS</td>\n",
              "      <td>2010.0</td>\n",
              "      <td>Role-Playing</td>\n",
              "      <td>Nintendo</td>\n",
              "      <td>5.57</td>\n",
              "      <td>3.28</td>\n",
              "      <td>5.65</td>\n",
              "      <td>0.82</td>\n",
              "      <td>15.32</td>\n",
              "      <td>2010~</td>\n",
              "    </tr>\n",
              "    <tr>\n",
              "      <th>13844</th>\n",
              "      <td>Call of Duty: Modern Warfare 3</td>\n",
              "      <td>PS3</td>\n",
              "      <td>2011.0</td>\n",
              "      <td>Shooter</td>\n",
              "      <td>Activision</td>\n",
              "      <td>5.54</td>\n",
              "      <td>5.82</td>\n",
              "      <td>0.49</td>\n",
              "      <td>1.62</td>\n",
              "      <td>13.47</td>\n",
              "      <td>2010~</td>\n",
              "    </tr>\n",
              "    <tr>\n",
              "      <th>11303</th>\n",
              "      <td>The Elder Scrolls V: Skyrim</td>\n",
              "      <td>X360</td>\n",
              "      <td>2011.0</td>\n",
              "      <td>Role-Playing</td>\n",
              "      <td>Bethesda Softworks</td>\n",
              "      <td>5.03</td>\n",
              "      <td>2.86</td>\n",
              "      <td>0.10</td>\n",
              "      <td>0.85</td>\n",
              "      <td>8.84</td>\n",
              "      <td>2010~</td>\n",
              "    </tr>\n",
              "    <tr>\n",
              "      <th>4159</th>\n",
              "      <td>Call of Duty: Black Ops II</td>\n",
              "      <td>PS3</td>\n",
              "      <td>2012.0</td>\n",
              "      <td>Shooter</td>\n",
              "      <td>Activision</td>\n",
              "      <td>4.99</td>\n",
              "      <td>5.88</td>\n",
              "      <td>0.65</td>\n",
              "      <td>2.52</td>\n",
              "      <td>14.04</td>\n",
              "      <td>2010~</td>\n",
              "    </tr>\n",
              "    <tr>\n",
              "      <th>12384</th>\n",
              "      <td>Super Mario 3D Land</td>\n",
              "      <td>3DS</td>\n",
              "      <td>2011.0</td>\n",
              "      <td>Platform</td>\n",
              "      <td>Nintendo</td>\n",
              "      <td>4.89</td>\n",
              "      <td>2.99</td>\n",
              "      <td>2.13</td>\n",
              "      <td>0.78</td>\n",
              "      <td>10.79</td>\n",
              "      <td>2010~</td>\n",
              "    </tr>\n",
              "  </tbody>\n",
              "</table>\n",
              "</div>"
            ],
            "text/plain": [
              "                                        Name Platform  ...  Total_Sales  range\n",
              "4260                      Kinect Adventures!     X360  ...        21.82  2010~\n",
              "12099  The Cages: Pro Style Batting Practice      Wii  ...        10.00  2010~\n",
              "6130                 Call of Duty: Black Ops     X360  ...        14.64  2010~\n",
              "10714                     Grand Theft Auto V     X360  ...        16.38  2010~\n",
              "2762          Call of Duty: Modern Warfare 3     X360  ...        14.76  2010~\n",
              "6268              Call of Duty: Black Ops II     X360  ...        13.74  2010~\n",
              "12362                            Halo: Reach     X360  ...         9.87  2010~\n",
              "3420                      Grand Theft Auto V      PS3  ...        21.39  2010~\n",
              "5500                    Call of Duty: Ghosts     X360  ...        10.21  2010~\n",
              "14297                                 Halo 4     X360  ...         9.76  2010~\n",
              "220                             Just Dance 3      Wii  ...        10.27  2010~\n",
              "9751                 Call of Duty: Black Ops      PS3  ...        12.73  2010~\n",
              "9067                            Just Dance 2      Wii  ...         9.52  2010~\n",
              "8909               Call of Duty: Black Ops 3      PS4  ...        14.24  2010~\n",
              "9820                               Minecraft     X360  ...         9.20  2010~\n",
              "10429            Pokemon Black/Pokemon White       DS  ...        15.32  2010~\n",
              "13844         Call of Duty: Modern Warfare 3      PS3  ...        13.47  2010~\n",
              "11303            The Elder Scrolls V: Skyrim     X360  ...         8.84  2010~\n",
              "4159              Call of Duty: Black Ops II      PS3  ...        14.04  2010~\n",
              "12384                    Super Mario 3D Land      3DS  ...        10.79  2010~\n",
              "\n",
              "[20 rows x 11 columns]"
            ]
          },
          "metadata": {
            "tags": []
          },
          "execution_count": 49
        }
      ]
    },
    {
      "cell_type": "markdown",
      "metadata": {
        "id": "ot4yFApKumlE"
      },
      "source": [
        "#### 장르"
      ]
    },
    {
      "cell_type": "code",
      "metadata": {
        "colab": {
          "base_uri": "https://localhost:8080/",
          "height": 336
        },
        "id": "A2Pzra2uVDng",
        "outputId": "793b2c58-1ced-4e03-8284-347605106954"
      },
      "source": [
        "na20 = sns.countplot(x='Genre',data=top20_NA, order=Genre_list)\n",
        "na20.set_xticklabels(na20.get_xticklabels(), rotation=45, horizontalalignment='right')\n",
        "plt.title('Genre Distribution of top 20 Games in NA')\n",
        "plt.show()\n",
        "\n",
        "na20fig = na20.get_figure()\n",
        "na20fig.savefig('genre_distribution_NA20.png', dpi = 200, bbox_inches='tight', pad_inches=0.3, transparent=True)"
      ],
      "execution_count": 50,
      "outputs": [
        {
          "output_type": "display_data",
          "data": {
            "image/png": "[encoded data removed]",
            "text/plain": [
              "<Figure size 432x288 with 1 Axes>"
            ]
          },
          "metadata": {
            "tags": []
          }
        }
      ]
    },
    {
      "cell_type": "code",
      "metadata": {
        "colab": {
          "base_uri": "https://localhost:8080/"
        },
        "id": "_X6pHDDLlBBZ",
        "outputId": "76427619-fb93-4db3-d918-acf0c8db12a5"
      },
      "source": [
        "def ratio_top_20(genre):\n",
        "    ratio = top20_NA.loc[top20_NA['Genre'] == genre]\n",
        "    return ratio['NA_Sales'].sum()\n",
        "\n",
        "print(top20_NA['NA_Sales'].sum())\n",
        "print(ratio_top_20('Action'), ratio_top_20('Misc'), ratio_top_20('Platform'), ratio_top_20('Role-Playing'), ratio_top_20('Shooter'), ratio_top_20('Sports'))"
      ],
      "execution_count": 66,
      "outputs": [
        {
          "output_type": "stream",
          "text": [
            "144.18\n",
            "16.64 32.44 4.89 10.600000000000001 69.61 10.0\n"
          ],
          "name": "stdout"
        }
      ]
    },
    {
      "cell_type": "code",
      "metadata": {
        "id": "NziWTXvsGEV6"
      },
      "source": [
        "# 시리즈 게임 비중"
      ],
      "execution_count": null,
      "outputs": []
    },
    {
      "cell_type": "code",
      "metadata": {
        "id": "Lrzzw5oPD414"
      },
      "source": [
        "call_of_duty = top20_NA['NA_Sales'].loc[top20_NA['Name'].str.contains('Call of Duty')].sum()\n",
        "halo = top20_NA['NA_Sales'].loc[top20_NA['Name'].str.contains('Halo')].sum()\n",
        "total = top20_NA['NA_Sales'].sum()\n",
        "other = total - halo - call_of_duty"
      ],
      "execution_count": 114,
      "outputs": []
    },
    {
      "cell_type": "code",
      "metadata": {
        "colab": {
          "base_uri": "https://localhost:8080/"
        },
        "id": "Xccysx5XFIS5",
        "outputId": "b1330cce-3616-4598-e57e-220c6765baea"
      },
      "source": [
        "print(call_of_duty)\n",
        "print(halo)\n",
        "print(other)"
      ],
      "execution_count": 115,
      "outputs": [
        {
          "output_type": "stream",
          "text": [
            "55.95\n",
            "13.66\n",
            "74.57000000000001\n"
          ],
          "name": "stdout"
        }
      ]
    },
    {
      "cell_type": "code",
      "metadata": {
        "colab": {
          "base_uri": "https://localhost:8080/",
          "height": 264
        },
        "id": "JNo49WWVF_4s",
        "outputId": "5fd9ba30-c98f-44cf-f66f-c087e9d935bd"
      },
      "source": [
        "ratio_series = [call_of_duty/ total, halo / total, other / total]\n",
        "labels = ['Call of Duty', 'Halo','others']\n",
        "\n",
        "plt.pie(ratio_series, labels=labels, shadow=True, startangle=90)\n",
        "plt.title('Shooter Series ratio')\n",
        "plt.show()"
      ],
      "execution_count": 117,
      "outputs": [
        {
          "output_type": "display_data",
          "data": {
            "image/png": "[encoded data removed]",
            "text/plain": [
              "<Figure size 432x288 with 1 Axes>"
            ]
          },
          "metadata": {
            "tags": []
          }
        }
      ]
    },
    {
      "cell_type": "markdown",
      "metadata": {
        "id": "LxpSgnDNupSh"
      },
      "source": [
        "#### 플랫폼"
      ]
    },
    {
      "cell_type": "code",
      "metadata": {
        "colab": {
          "base_uri": "https://localhost:8080/",
          "height": 311
        },
        "id": "9H3HF7UkXtwg",
        "outputId": "b5b1d2d6-a649-4213-cf40-5d246f2dc158"
      },
      "source": [
        "na20p = sns.countplot(x='Platform',data=top20_NA, color='#b0b0b0')\n",
        "na20p.set_xticklabels(na20p.get_xticklabels(), rotation=45, horizontalalignment='right')\n",
        "plt.title('Platform Distribution of top 20 Games in NA')\n",
        "plt.show()\n",
        "\n",
        "na20pfig =na20p.get_figure()\n",
        "na20pfig.savefig('platform_distribution_NA20.png', dpi = 200, bbox_inches='tight', pad_inches=0.3, transparent=True)"
      ],
      "execution_count": 51,
      "outputs": [
        {
          "output_type": "display_data",
          "data": {
            "image/png": "[encoded data removed]",
            "text/plain": [
              "<Figure size 432x288 with 1 Axes>"
            ]
          },
          "metadata": {
            "tags": []
          }
        }
      ]
    },
    {
      "cell_type": "code",
      "metadata": {
        "id": "R52BnDg1uE6b"
      },
      "source": [
        "# 각 플랫폼별 출고량 비율"
      ],
      "execution_count": null,
      "outputs": []
    },
    {
      "cell_type": "code",
      "metadata": {
        "id": "JhqXY1xGpkuo"
      },
      "source": [
        "#XBOX = ['X360']\n",
        "#Playstation = ['PS3', 'PS4']\n",
        "#Nintendo = ['Wii','DS','3DS']\n",
        "\n",
        "x360 = top20_NA.loc[top20_NA['Platform'] == 'X360']\n",
        "ps3 = top20_NA.loc[top20_NA['Platform'] == 'PS3']\n",
        "ps4 = top20_NA.loc[top20_NA['Platform'] == 'PS4']\n",
        "wii = top20_NA.loc[top20_NA['Platform'] == 'Wii']\n",
        "ds = top20_NA.loc[top20_NA['Platform'] == 'DS']\n",
        "ds3 = top20_NA.loc[top20_NA['Platform'] == '3DS']"
      ],
      "execution_count": 83,
      "outputs": []
    },
    {
      "cell_type": "code",
      "metadata": {
        "id": "NfgSQ7qRqnYM"
      },
      "source": [
        "xbox = x360\n",
        "playstation = pd.concat([ps3, ps4])\n",
        "nintendo = pd.concat([wii, ds, ds3])"
      ],
      "execution_count": 85,
      "outputs": []
    },
    {
      "cell_type": "code",
      "metadata": {
        "id": "W3Vp0W_-tiY1"
      },
      "source": [
        "def sum_pf(dataframe):\n",
        "    return dataframe['NA_Sales'].sum()"
      ],
      "execution_count": 87,
      "outputs": []
    },
    {
      "cell_type": "code",
      "metadata": {
        "colab": {
          "base_uri": "https://localhost:8080/"
        },
        "id": "94gO3tdDrh9D",
        "outputId": "706fcd17-da71-472e-dca9-d3d6c5517b6b"
      },
      "source": [
        "total_pf_sales = top20_NA['NA_Sales'].sum()\n",
        "print(total_pf_sales)\n",
        "print(sum_pf(xbox) + sum_pf(playstation) + sum_pf(nintendo))\n",
        "print(sum_pf(xbox)/total_pf_sales, sum_pf(playstation)/total_pf_sales,sum_pf(nintendo)/total_pf_sales)"
      ],
      "execution_count": 93,
      "outputs": [
        {
          "output_type": "stream",
          "text": [
            "144.18\n",
            "144.18\n",
            "0.5724788458870856 0.20314884172562075 0.22437231238729366\n"
          ],
          "name": "stdout"
        }
      ]
    },
    {
      "cell_type": "code",
      "metadata": {
        "colab": {
          "base_uri": "https://localhost:8080/",
          "height": 302
        },
        "id": "PpUv0_VPx2qN",
        "outputId": "779545c4-c1d0-46d4-91ef-4a223123fa91"
      },
      "source": [
        "ratio_pf = [(sum_pf(xbox)/total_pf_sales, sum_pf(playstation)/total_pf_sales,sum_pf(nintendo)/total_pf_sales)]\n",
        "label = ['X-BOX', 'Playstation','Nintendo']\n",
        "\n",
        "plt.pie(ratio_pf, labels=label, shadow=True, startangle=90)\n",
        "plt.show()"
      ],
      "execution_count": 94,
      "outputs": [
        {
          "output_type": "stream",
          "text": [
            "/usr/local/lib/python3.7/dist-packages/ipykernel_launcher.py:4: MatplotlibDeprecationWarning: Non-1D inputs to pie() are currently squeeze()d, but this behavior is deprecated since 3.1 and will be removed in 3.3; pass a 1D array instead.\n",
            "  after removing the cwd from sys.path.\n"
          ],
          "name": "stderr"
        },
        {
          "output_type": "display_data",
          "data": {
            "image/png": "[encoded data removed]",
            "text/plain": [
              "<Figure size 432x288 with 1 Axes>"
            ]
          },
          "metadata": {
            "tags": []
          }
        }
      ]
    },
    {
      "cell_type": "code",
      "metadata": {
        "id": "xla2xbQvjmNv"
      },
      "source": [
        "# 전체적 추세 뿐만 아니라 북미 지역에서도 x-box, playstation, nintendo와 같은 주요 콘솔 플랫폼을 선택하는 것이 출고량 측면에서 유리"
      ],
      "execution_count": 52,
      "outputs": []
    }
  ]
}