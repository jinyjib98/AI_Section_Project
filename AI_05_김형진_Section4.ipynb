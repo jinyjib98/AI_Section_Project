{
  "nbformat": 4,
  "nbformat_minor": 0,
  "metadata": {
    "colab": {
      "name": "AI_05_김형진_Section4.ipynb",
      "provenance": [],
      "collapsed_sections": [],
      "authorship_tag": "ABX9TyPjS99jYw+4laYdzNyyzmJJ",
      "include_colab_link": true
    },
    "kernelspec": {
      "name": "python3",
      "display_name": "Python 3"
    },
    "language_info": {
      "name": "python"
    }
  },
  "cells": [
    {
      "cell_type": "markdown",
      "metadata": {
        "id": "view-in-github",
        "colab_type": "text"
      },
      "source": [
        "<a href=\"https://colab.research.google.com/github/jinyjib98/AI_Sprint_Project/blob/main/AI_05_%EA%B9%80%ED%98%95%EC%A7%84_Section4.ipynb\" target=\"_parent\"><img src=\"https://colab.research.google.com/assets/colab-badge.svg\" alt=\"Open In Colab\"/></a>"
      ]
    },
    {
      "cell_type": "markdown",
      "metadata": {
        "id": "JWKYKVKzesFG"
      },
      "source": [
        "# **Section4 Project**\n",
        "\n",
        "\n",
        "<br/>\n",
        "\n",
        "## 🚀 Purpose\n",
        "\n",
        "정의한 문제에 적절한 데이터셋을 고른 후, 가설을 검증하기 위한 딥러닝 모델 설계\n",
        "\n",
        "<br/>\n",
        "\n",
        "## 📖 Contents\n",
        "-----\n",
        "```\n",
        "1. 문제 정의 및 데이터 선정\n",
        "2. 모델 전처리 및 학습\n",
        "3. 모델 성능 검증\n",
        "4. 한계점 보완 및 발전방향 제시\n",
        "```"
      ]
    },
    {
      "cell_type": "markdown",
      "metadata": {
        "id": "_qscCtlXo1vh"
      },
      "source": [
        "### 1️⃣ 문제 정의 및 데이터 선정\n",
        "\n"
      ]
    },
    {
      "cell_type": "markdown",
      "metadata": {
        "id": "UCqbaTFCt2dz"
      },
      "source": [
        "#### 이모지(emoji)\n",
        "\n",
        "> 유니코드 체계를 이용해 만든 그림문자 e.g. 😀 🥰 🤬\n",
        "\n",
        "-> 그림을 통해 감정, 상황을 전달하는 메시지 수단\n",
        "\n",
        "<br/>\n",
        "\n",
        "❗️이모지의 장점\n",
        "\n",
        "1. **직관적**으로 감정 표현 가능\n",
        "2. 언어가 달라도 누구나 **쉽게 이해**할 수 있음\n",
        "\n",
        "특히, 디지털 문화에 익숙한 젊은 세대를 중심으로 하나의 언어처럼 범용적으로 사용되고 있음\n",
        "\n",
        "<br/>\n",
        "\n",
        "-----\n",
        "\n",
        "<br/>\n",
        "\n",
        "#### 문제 정의\n",
        "\n",
        "> 감정 분석을 통해 글에 어울리는 이모지를 추천해보자!\n",
        "\n",
        "Angry, Fear, Sadness, Surprise, Joy, Love 총 6개의 감정으로 텍스트를 분류하는 LSTM 딥러닝 모델 설계\n",
        "\n",
        "-> 분석 결과에 따라 감정별로 미리 분류된 이모지 리스트에서 랜덤으로 추천\n"
      ]
    },
    {
      "cell_type": "markdown",
      "metadata": {
        "id": "rsXPH5l9uZcv"
      },
      "source": [
        "#### Import Dataset"
      ]
    },
    {
      "cell_type": "code",
      "metadata": {
        "id": "9psqy8pTeaQm"
      },
      "source": [
        "import pandas as pd\n",
        "import numpy as np\n",
        "import tensorflow as tf\n",
        "import matplotlib.pyplot as plt\n",
        "import seaborn as sns\n",
        "import os"
      ],
      "execution_count": null,
      "outputs": []
    },
    {
      "cell_type": "code",
      "metadata": {
        "colab": {
          "base_uri": "https://localhost:8080/"
        },
        "id": "13v3T3iuqJ0n",
        "outputId": "7f5efea9-6ebb-4edb-88c2-b78abee5f88f"
      },
      "source": [
        "from google.colab import drive\n",
        "drive.mount('/content/drive', force_remount=True)"
      ],
      "execution_count": null,
      "outputs": [
        {
          "output_type": "stream",
          "name": "stdout",
          "text": [
            "Mounted at /content/drive\n"
          ]
        }
      ]
    },
    {
      "cell_type": "code",
      "metadata": {
        "id": "3K4DJ9iFuX3H"
      },
      "source": [
        "train_url = '/content/drive/MyDrive/Section_Project/Section4/data/emozi/train.txt'\n",
        "val_url = '/content/drive/MyDrive/Section_Project/Section4/data/emozi/val.txt'\n",
        "test_url = '/content/drive/MyDrive/Section_Project/Section4/data/emozi/test.txt'"
      ],
      "execution_count": null,
      "outputs": []
    },
    {
      "cell_type": "code",
      "metadata": {
        "id": "bO66QMRsvAvM"
      },
      "source": [
        "train = pd.read_csv(train_url, sep=';', names=['text', 'sentiment'])\n",
        "val = pd.read_csv(val_url, sep=';', names=['text', 'sentiment'])\n",
        "test = pd.read_csv(test_url, sep=';', names=['text', 'sentiment'])"
      ],
      "execution_count": null,
      "outputs": []
    },
    {
      "cell_type": "code",
      "metadata": {
        "colab": {
          "base_uri": "https://localhost:8080/",
          "height": 202
        },
        "id": "nTk0dKFHvnlo",
        "outputId": "1114039d-c39c-462d-a307-2ce3257d8480"
      },
      "source": [
        "train.head()"
      ],
      "execution_count": null,
      "outputs": [
        {
          "output_type": "execute_result",
          "data": {
            "text/html": [
              "<div>\n",
              "<style scoped>\n",
              "    .dataframe tbody tr th:only-of-type {\n",
              "        vertical-align: middle;\n",
              "    }\n",
              "\n",
              "    .dataframe tbody tr th {\n",
              "        vertical-align: top;\n",
              "    }\n",
              "\n",
              "    .dataframe thead th {\n",
              "        text-align: right;\n",
              "    }\n",
              "</style>\n",
              "<table border=\"1\" class=\"dataframe\">\n",
              "  <thead>\n",
              "    <tr style=\"text-align: right;\">\n",
              "      <th></th>\n",
              "      <th>text</th>\n",
              "      <th>sentiment</th>\n",
              "    </tr>\n",
              "  </thead>\n",
              "  <tbody>\n",
              "    <tr>\n",
              "      <th>0</th>\n",
              "      <td>i didnt feel humiliated</td>\n",
              "      <td>sadness</td>\n",
              "    </tr>\n",
              "    <tr>\n",
              "      <th>1</th>\n",
              "      <td>i can go from feeling so hopeless to so damned...</td>\n",
              "      <td>sadness</td>\n",
              "    </tr>\n",
              "    <tr>\n",
              "      <th>2</th>\n",
              "      <td>im grabbing a minute to post i feel greedy wrong</td>\n",
              "      <td>anger</td>\n",
              "    </tr>\n",
              "    <tr>\n",
              "      <th>3</th>\n",
              "      <td>i am ever feeling nostalgic about the fireplac...</td>\n",
              "      <td>love</td>\n",
              "    </tr>\n",
              "    <tr>\n",
              "      <th>4</th>\n",
              "      <td>i am feeling grouchy</td>\n",
              "      <td>anger</td>\n",
              "    </tr>\n",
              "  </tbody>\n",
              "</table>\n",
              "</div>"
            ],
            "text/plain": [
              "                                                text sentiment\n",
              "0                            i didnt feel humiliated   sadness\n",
              "1  i can go from feeling so hopeless to so damned...   sadness\n",
              "2   im grabbing a minute to post i feel greedy wrong     anger\n",
              "3  i am ever feeling nostalgic about the fireplac...      love\n",
              "4                               i am feeling grouchy     anger"
            ]
          },
          "metadata": {},
          "execution_count": 5
        }
      ]
    },
    {
      "cell_type": "code",
      "metadata": {
        "colab": {
          "base_uri": "https://localhost:8080/",
          "height": 202
        },
        "id": "PBSxHgYJvqyO",
        "outputId": "34b55ae9-c40d-470f-9161-6f822c9cbe14"
      },
      "source": [
        "val.head()"
      ],
      "execution_count": null,
      "outputs": [
        {
          "output_type": "execute_result",
          "data": {
            "text/html": [
              "<div>\n",
              "<style scoped>\n",
              "    .dataframe tbody tr th:only-of-type {\n",
              "        vertical-align: middle;\n",
              "    }\n",
              "\n",
              "    .dataframe tbody tr th {\n",
              "        vertical-align: top;\n",
              "    }\n",
              "\n",
              "    .dataframe thead th {\n",
              "        text-align: right;\n",
              "    }\n",
              "</style>\n",
              "<table border=\"1\" class=\"dataframe\">\n",
              "  <thead>\n",
              "    <tr style=\"text-align: right;\">\n",
              "      <th></th>\n",
              "      <th>text</th>\n",
              "      <th>sentiment</th>\n",
              "    </tr>\n",
              "  </thead>\n",
              "  <tbody>\n",
              "    <tr>\n",
              "      <th>0</th>\n",
              "      <td>im feeling quite sad and sorry for myself but ...</td>\n",
              "      <td>sadness</td>\n",
              "    </tr>\n",
              "    <tr>\n",
              "      <th>1</th>\n",
              "      <td>i feel like i am still looking at a blank canv...</td>\n",
              "      <td>sadness</td>\n",
              "    </tr>\n",
              "    <tr>\n",
              "      <th>2</th>\n",
              "      <td>i feel like a faithful servant</td>\n",
              "      <td>love</td>\n",
              "    </tr>\n",
              "    <tr>\n",
              "      <th>3</th>\n",
              "      <td>i am just feeling cranky and blue</td>\n",
              "      <td>anger</td>\n",
              "    </tr>\n",
              "    <tr>\n",
              "      <th>4</th>\n",
              "      <td>i can have for a treat or if i am feeling festive</td>\n",
              "      <td>joy</td>\n",
              "    </tr>\n",
              "  </tbody>\n",
              "</table>\n",
              "</div>"
            ],
            "text/plain": [
              "                                                text sentiment\n",
              "0  im feeling quite sad and sorry for myself but ...   sadness\n",
              "1  i feel like i am still looking at a blank canv...   sadness\n",
              "2                     i feel like a faithful servant      love\n",
              "3                  i am just feeling cranky and blue     anger\n",
              "4  i can have for a treat or if i am feeling festive       joy"
            ]
          },
          "metadata": {},
          "execution_count": 6
        }
      ]
    },
    {
      "cell_type": "code",
      "metadata": {
        "id": "l6BuObg3vs2d",
        "colab": {
          "base_uri": "https://localhost:8080/",
          "height": 202
        },
        "outputId": "074ec0ff-6dc4-4b13-8a26-9756e83d7122"
      },
      "source": [
        "test.head()"
      ],
      "execution_count": null,
      "outputs": [
        {
          "output_type": "execute_result",
          "data": {
            "text/html": [
              "<div>\n",
              "<style scoped>\n",
              "    .dataframe tbody tr th:only-of-type {\n",
              "        vertical-align: middle;\n",
              "    }\n",
              "\n",
              "    .dataframe tbody tr th {\n",
              "        vertical-align: top;\n",
              "    }\n",
              "\n",
              "    .dataframe thead th {\n",
              "        text-align: right;\n",
              "    }\n",
              "</style>\n",
              "<table border=\"1\" class=\"dataframe\">\n",
              "  <thead>\n",
              "    <tr style=\"text-align: right;\">\n",
              "      <th></th>\n",
              "      <th>text</th>\n",
              "      <th>sentiment</th>\n",
              "    </tr>\n",
              "  </thead>\n",
              "  <tbody>\n",
              "    <tr>\n",
              "      <th>0</th>\n",
              "      <td>im feeling rather rotten so im not very ambiti...</td>\n",
              "      <td>sadness</td>\n",
              "    </tr>\n",
              "    <tr>\n",
              "      <th>1</th>\n",
              "      <td>im updating my blog because i feel shitty</td>\n",
              "      <td>sadness</td>\n",
              "    </tr>\n",
              "    <tr>\n",
              "      <th>2</th>\n",
              "      <td>i never make her separate from me because i do...</td>\n",
              "      <td>sadness</td>\n",
              "    </tr>\n",
              "    <tr>\n",
              "      <th>3</th>\n",
              "      <td>i left with my bouquet of red and yellow tulip...</td>\n",
              "      <td>joy</td>\n",
              "    </tr>\n",
              "    <tr>\n",
              "      <th>4</th>\n",
              "      <td>i was feeling a little vain when i did this one</td>\n",
              "      <td>sadness</td>\n",
              "    </tr>\n",
              "  </tbody>\n",
              "</table>\n",
              "</div>"
            ],
            "text/plain": [
              "                                                text sentiment\n",
              "0  im feeling rather rotten so im not very ambiti...   sadness\n",
              "1          im updating my blog because i feel shitty   sadness\n",
              "2  i never make her separate from me because i do...   sadness\n",
              "3  i left with my bouquet of red and yellow tulip...       joy\n",
              "4    i was feeling a little vain when i did this one   sadness"
            ]
          },
          "metadata": {},
          "execution_count": 7
        }
      ]
    },
    {
      "cell_type": "markdown",
      "metadata": {
        "id": "hKrTi3nScBIU"
      },
      "source": [
        "### 2️⃣ 모델 전처리 및 학습"
      ]
    },
    {
      "cell_type": "markdown",
      "metadata": {
        "id": "z6YUmZSNzcNl"
      },
      "source": [
        "#### 결측치 확인"
      ]
    },
    {
      "cell_type": "code",
      "metadata": {
        "colab": {
          "base_uri": "https://localhost:8080/"
        },
        "id": "UtpHE1ebxAEv",
        "outputId": "fdede7a3-bf32-492b-a754-d9ad3edacf2e"
      },
      "source": [
        "train.isnull().sum()"
      ],
      "execution_count": null,
      "outputs": [
        {
          "output_type": "execute_result",
          "data": {
            "text/plain": [
              "text         0\n",
              "sentiment    0\n",
              "dtype: int64"
            ]
          },
          "metadata": {},
          "execution_count": 8
        }
      ]
    },
    {
      "cell_type": "code",
      "metadata": {
        "colab": {
          "base_uri": "https://localhost:8080/"
        },
        "id": "Q8PZNeUnxFsw",
        "outputId": "ab31b5ec-ea61-46a9-dd12-3383a9931424"
      },
      "source": [
        "val.isnull().sum()"
      ],
      "execution_count": null,
      "outputs": [
        {
          "output_type": "execute_result",
          "data": {
            "text/plain": [
              "text         0\n",
              "sentiment    0\n",
              "dtype: int64"
            ]
          },
          "metadata": {},
          "execution_count": 9
        }
      ]
    },
    {
      "cell_type": "code",
      "metadata": {
        "colab": {
          "base_uri": "https://localhost:8080/"
        },
        "id": "FKAcxchYxJMF",
        "outputId": "75e3a004-6c70-4097-b4cb-e7c09a9b8c12"
      },
      "source": [
        "test.isnull().sum()"
      ],
      "execution_count": null,
      "outputs": [
        {
          "output_type": "execute_result",
          "data": {
            "text/plain": [
              "text         0\n",
              "sentiment    0\n",
              "dtype: int64"
            ]
          },
          "metadata": {},
          "execution_count": 10
        }
      ]
    },
    {
      "cell_type": "markdown",
      "metadata": {
        "id": "kUsvwF9N-pte"
      },
      "source": [
        "#### Value Counts"
      ]
    },
    {
      "cell_type": "code",
      "metadata": {
        "colab": {
          "base_uri": "https://localhost:8080/"
        },
        "id": "k0bUE7h_6yYY",
        "outputId": "5e7ae4aa-1b4a-49e0-cb06-8667144928c4"
      },
      "source": [
        "train['sentiment'].value_counts()"
      ],
      "execution_count": null,
      "outputs": [
        {
          "output_type": "execute_result",
          "data": {
            "text/plain": [
              "joy         5362\n",
              "sadness     4666\n",
              "anger       2159\n",
              "fear        1937\n",
              "love        1304\n",
              "surprise     572\n",
              "Name: sentiment, dtype: int64"
            ]
          },
          "metadata": {},
          "execution_count": 11
        }
      ]
    },
    {
      "cell_type": "code",
      "metadata": {
        "colab": {
          "base_uri": "https://localhost:8080/"
        },
        "id": "R_7alCSl9ERf",
        "outputId": "cf708f21-204a-48d7-b939-e70013515b7d"
      },
      "source": [
        "val['sentiment'].value_counts()"
      ],
      "execution_count": null,
      "outputs": [
        {
          "output_type": "execute_result",
          "data": {
            "text/plain": [
              "joy         704\n",
              "sadness     550\n",
              "anger       275\n",
              "fear        212\n",
              "love        178\n",
              "surprise     81\n",
              "Name: sentiment, dtype: int64"
            ]
          },
          "metadata": {},
          "execution_count": 12
        }
      ]
    },
    {
      "cell_type": "code",
      "metadata": {
        "colab": {
          "base_uri": "https://localhost:8080/"
        },
        "id": "lkit38vD9LAA",
        "outputId": "0e70c2bb-7dd9-4cb9-be7d-edd02e744134"
      },
      "source": [
        "test['sentiment'].value_counts()"
      ],
      "execution_count": null,
      "outputs": [
        {
          "output_type": "execute_result",
          "data": {
            "text/plain": [
              "joy         695\n",
              "sadness     581\n",
              "anger       275\n",
              "fear        224\n",
              "love        159\n",
              "surprise     66\n",
              "Name: sentiment, dtype: int64"
            ]
          },
          "metadata": {},
          "execution_count": 13
        }
      ]
    },
    {
      "cell_type": "markdown",
      "metadata": {
        "id": "uVjFNLlRw91L"
      },
      "source": [
        "train, val, test 모두 생각보다 매우 깨끗한 데이터\n",
        "\n",
        "- 결측치 없음\n",
        "\n",
        "- train, val, test의 sentiment 비율이 비슷하게 구성되어 있어 따로 섞어줄 필요 없음\n",
        "\n",
        "-> 전체 문자 lower 진행한 후 sentiment encoding으로 바로 들어감"
      ]
    },
    {
      "cell_type": "markdown",
      "metadata": {
        "id": "6yzkiLoYzitq"
      },
      "source": [
        "#### Lowercase"
      ]
    },
    {
      "cell_type": "code",
      "metadata": {
        "colab": {
          "base_uri": "https://localhost:8080/"
        },
        "id": "iRB4sXE-29QK",
        "outputId": "b50cd7f8-bdd5-4fcc-e5f4-61dee9124142"
      },
      "source": [
        "train['text'].str.isupper().sum()"
      ],
      "execution_count": null,
      "outputs": [
        {
          "output_type": "execute_result",
          "data": {
            "text/plain": [
              "0"
            ]
          },
          "metadata": {},
          "execution_count": 14
        }
      ]
    },
    {
      "cell_type": "code",
      "metadata": {
        "colab": {
          "base_uri": "https://localhost:8080/"
        },
        "id": "1QgLt5TE5BJB",
        "outputId": "f18a02b6-be73-4e33-aa30-60c697c1e551"
      },
      "source": [
        "val['text'].str.isupper().sum()"
      ],
      "execution_count": null,
      "outputs": [
        {
          "output_type": "execute_result",
          "data": {
            "text/plain": [
              "0"
            ]
          },
          "metadata": {},
          "execution_count": 15
        }
      ]
    },
    {
      "cell_type": "code",
      "metadata": {
        "colab": {
          "base_uri": "https://localhost:8080/"
        },
        "id": "aUvBvgQa5F77",
        "outputId": "2e0ba1fc-8c68-4eec-9ee1-4d25c5bb9849"
      },
      "source": [
        "test['text'].str.isupper().sum()"
      ],
      "execution_count": null,
      "outputs": [
        {
          "output_type": "execute_result",
          "data": {
            "text/plain": [
              "0"
            ]
          },
          "metadata": {},
          "execution_count": 16
        }
      ]
    },
    {
      "cell_type": "code",
      "metadata": {
        "colab": {
          "base_uri": "https://localhost:8080/",
          "height": 202
        },
        "id": "VpHssyOu2lkQ",
        "outputId": "f11209a7-fcb4-44da-a14f-06b0968c4750"
      },
      "source": [
        "train.head()"
      ],
      "execution_count": null,
      "outputs": [
        {
          "output_type": "execute_result",
          "data": {
            "text/html": [
              "<div>\n",
              "<style scoped>\n",
              "    .dataframe tbody tr th:only-of-type {\n",
              "        vertical-align: middle;\n",
              "    }\n",
              "\n",
              "    .dataframe tbody tr th {\n",
              "        vertical-align: top;\n",
              "    }\n",
              "\n",
              "    .dataframe thead th {\n",
              "        text-align: right;\n",
              "    }\n",
              "</style>\n",
              "<table border=\"1\" class=\"dataframe\">\n",
              "  <thead>\n",
              "    <tr style=\"text-align: right;\">\n",
              "      <th></th>\n",
              "      <th>text</th>\n",
              "      <th>sentiment</th>\n",
              "    </tr>\n",
              "  </thead>\n",
              "  <tbody>\n",
              "    <tr>\n",
              "      <th>0</th>\n",
              "      <td>i didnt feel humiliated</td>\n",
              "      <td>sadness</td>\n",
              "    </tr>\n",
              "    <tr>\n",
              "      <th>1</th>\n",
              "      <td>i can go from feeling so hopeless to so damned...</td>\n",
              "      <td>sadness</td>\n",
              "    </tr>\n",
              "    <tr>\n",
              "      <th>2</th>\n",
              "      <td>im grabbing a minute to post i feel greedy wrong</td>\n",
              "      <td>anger</td>\n",
              "    </tr>\n",
              "    <tr>\n",
              "      <th>3</th>\n",
              "      <td>i am ever feeling nostalgic about the fireplac...</td>\n",
              "      <td>love</td>\n",
              "    </tr>\n",
              "    <tr>\n",
              "      <th>4</th>\n",
              "      <td>i am feeling grouchy</td>\n",
              "      <td>anger</td>\n",
              "    </tr>\n",
              "  </tbody>\n",
              "</table>\n",
              "</div>"
            ],
            "text/plain": [
              "                                                text sentiment\n",
              "0                            i didnt feel humiliated   sadness\n",
              "1  i can go from feeling so hopeless to so damned...   sadness\n",
              "2   im grabbing a minute to post i feel greedy wrong     anger\n",
              "3  i am ever feeling nostalgic about the fireplac...      love\n",
              "4                               i am feeling grouchy     anger"
            ]
          },
          "metadata": {},
          "execution_count": 17
        }
      ]
    },
    {
      "cell_type": "markdown",
      "metadata": {
        "id": "T0qUfnUf5Lks"
      },
      "source": [
        "#### LabelEncoding"
      ]
    },
    {
      "cell_type": "code",
      "metadata": {
        "colab": {
          "base_uri": "https://localhost:8080/"
        },
        "id": "Xwmnfs6h5P82",
        "outputId": "8768122f-fb05-4368-e247-f1d79a04e258"
      },
      "source": [
        "train['sentiment'].unique().sort() == val['sentiment'].unique().sort() == test['sentiment'].unique().sort()"
      ],
      "execution_count": null,
      "outputs": [
        {
          "output_type": "execute_result",
          "data": {
            "text/plain": [
              "True"
            ]
          },
          "metadata": {},
          "execution_count": 18
        }
      ]
    },
    {
      "cell_type": "markdown",
      "metadata": {
        "id": "hKnPsMFL6WeZ"
      },
      "source": [
        "전체 데이터의 `sentiment` 요소가 같은 것 확인함 -> str - int 변환"
      ]
    },
    {
      "cell_type": "code",
      "metadata": {
        "id": "RiGxTnJdaCna"
      },
      "source": [
        "sentiment = {\n",
        "    'anger' : 0,\n",
        "    'fear' : 1,\n",
        "    'sadness' : 2,\n",
        "    'surprise': 3,\n",
        "    'joy' : 4,\n",
        "    'love' : 5\n",
        "}"
      ],
      "execution_count": null,
      "outputs": []
    },
    {
      "cell_type": "code",
      "metadata": {
        "id": "Jz8k2RrC_EI2"
      },
      "source": [
        "train['sentiment'] = train['sentiment'].map(sentiment)\n",
        "val['sentiment'] = val['sentiment'].map(sentiment)\n",
        "test['sentiment'] = test['sentiment'].map(sentiment)"
      ],
      "execution_count": null,
      "outputs": []
    },
    {
      "cell_type": "code",
      "metadata": {
        "colab": {
          "base_uri": "https://localhost:8080/",
          "height": 202
        },
        "id": "Vqnk69Pba9TO",
        "outputId": "a916fe33-0505-44ab-fe84-501e24c4d4b8"
      },
      "source": [
        "train.head()"
      ],
      "execution_count": null,
      "outputs": [
        {
          "output_type": "execute_result",
          "data": {
            "text/html": [
              "<div>\n",
              "<style scoped>\n",
              "    .dataframe tbody tr th:only-of-type {\n",
              "        vertical-align: middle;\n",
              "    }\n",
              "\n",
              "    .dataframe tbody tr th {\n",
              "        vertical-align: top;\n",
              "    }\n",
              "\n",
              "    .dataframe thead th {\n",
              "        text-align: right;\n",
              "    }\n",
              "</style>\n",
              "<table border=\"1\" class=\"dataframe\">\n",
              "  <thead>\n",
              "    <tr style=\"text-align: right;\">\n",
              "      <th></th>\n",
              "      <th>text</th>\n",
              "      <th>sentiment</th>\n",
              "    </tr>\n",
              "  </thead>\n",
              "  <tbody>\n",
              "    <tr>\n",
              "      <th>0</th>\n",
              "      <td>i didnt feel humiliated</td>\n",
              "      <td>2</td>\n",
              "    </tr>\n",
              "    <tr>\n",
              "      <th>1</th>\n",
              "      <td>i can go from feeling so hopeless to so damned...</td>\n",
              "      <td>2</td>\n",
              "    </tr>\n",
              "    <tr>\n",
              "      <th>2</th>\n",
              "      <td>im grabbing a minute to post i feel greedy wrong</td>\n",
              "      <td>0</td>\n",
              "    </tr>\n",
              "    <tr>\n",
              "      <th>3</th>\n",
              "      <td>i am ever feeling nostalgic about the fireplac...</td>\n",
              "      <td>5</td>\n",
              "    </tr>\n",
              "    <tr>\n",
              "      <th>4</th>\n",
              "      <td>i am feeling grouchy</td>\n",
              "      <td>0</td>\n",
              "    </tr>\n",
              "  </tbody>\n",
              "</table>\n",
              "</div>"
            ],
            "text/plain": [
              "                                                text  sentiment\n",
              "0                            i didnt feel humiliated          2\n",
              "1  i can go from feeling so hopeless to so damned...          2\n",
              "2   im grabbing a minute to post i feel greedy wrong          0\n",
              "3  i am ever feeling nostalgic about the fireplac...          5\n",
              "4                               i am feeling grouchy          0"
            ]
          },
          "metadata": {},
          "execution_count": 7
        }
      ]
    },
    {
      "cell_type": "markdown",
      "metadata": {
        "id": "PXbPjXH3b6Q4"
      },
      "source": [
        "#### Embedding Vector\n",
        "\n",
        "> Tokenize 진행 후 Stemming(어간추출), Lemmatization(표제어 추출)에 따른 성능 비교 진행"
      ]
    },
    {
      "cell_type": "code",
      "metadata": {
        "colab": {
          "base_uri": "https://localhost:8080/"
        },
        "id": "A-sRqkoBfG1w",
        "outputId": "3420dc14-98db-411d-cba8-95e4fccb7511"
      },
      "source": [
        "sum(train['text'].apply(len)) / len(train['text'])"
      ],
      "execution_count": null,
      "outputs": [
        {
          "output_type": "execute_result",
          "data": {
            "text/plain": [
              "96.8458125"
            ]
          },
          "metadata": {},
          "execution_count": 8
        }
      ]
    },
    {
      "cell_type": "code",
      "metadata": {
        "id": "l4u7c5yAhebv"
      },
      "source": [
        "vocab_size = 10000\n",
        "sentence_len = 150 # more than avg text length"
      ],
      "execution_count": null,
      "outputs": []
    },
    {
      "cell_type": "code",
      "metadata": {
        "colab": {
          "base_uri": "https://localhost:8080/"
        },
        "id": "CaxrLgH7bYX4",
        "outputId": "c479da18-07a5-4dcb-b297-7e44fefbdd28"
      },
      "source": [
        "import re\n",
        "import nltk\n",
        "nltk.download('stopwords')\n",
        "nltk.download('wordnet')\n",
        "from nltk.corpus import stopwords\n",
        "from nltk.stem import PorterStemmer\n",
        "from nltk.stem import WordNetLemmatizer\n",
        "\n",
        "from tensorflow.keras.preprocessing.text import one_hot\n",
        "from tensorflow.keras.preprocessing.sequence import pad_sequences"
      ],
      "execution_count": null,
      "outputs": [
        {
          "output_type": "stream",
          "name": "stdout",
          "text": [
            "[nltk_data] Downloading package stopwords to /root/nltk_data...\n",
            "[nltk_data]   Unzipping corpora/stopwords.zip.\n",
            "[nltk_data] Downloading package wordnet to /root/nltk_data...\n",
            "[nltk_data]   Unzipping corpora/wordnet.zip.\n"
          ]
        }
      ]
    },
    {
      "cell_type": "code",
      "metadata": {
        "id": "S8eSVtBRgi3N"
      },
      "source": [
        "# stemming\n",
        "def data_stem(data, text):\n",
        "    stemmer = PorterStemmer()\n",
        "\n",
        "    corpus = []\n",
        "\n",
        "    for line in data[text]:\n",
        "\n",
        "        # 영어 소문자, 숫자, 공백만 남김\n",
        "        line = re.sub(\"[^a-z0-9]\", \" \", line)\n",
        "        # tokenize\n",
        "        line = line.split()\n",
        "\n",
        "        # stemming\n",
        "        line = [stemmer.stem(words)\n",
        "                for words in line\n",
        "                 if words not in stopwords.words(\"english\")]\n",
        "        \n",
        "        line = \" \".join(line)\n",
        "        corpus.append(line)\n",
        "    \n",
        "    # one-hot vectorize\n",
        "    one_hot_doc = [one_hot(input_text=words, n=vocab_size)\n",
        "                    for words in corpus]\n",
        "    \n",
        "    # word embedding\n",
        "    emb_doc = pad_sequences(sequences=one_hot_doc, maxlen=sentence_len, padding='pre')\n",
        "\n",
        "    return emb_doc\n"
      ],
      "execution_count": null,
      "outputs": []
    },
    {
      "cell_type": "code",
      "metadata": {
        "id": "xgB86FVBkAEv"
      },
      "source": [
        "# lemmatization\n",
        "def data_lemma(data, text):\n",
        "    lemmatizer = WordNetLemmatizer()\n",
        "\n",
        "    corpus = []\n",
        "\n",
        "    for line in data[text]:\n",
        "\n",
        "        # 영어 소문자, 숫자, 공백만 남김\n",
        "        line = re.sub(\"[^a-z0-9]\", \" \", line)\n",
        "        # tokenize\n",
        "        line = line.split()\n",
        "\n",
        "        # lemmatization\n",
        "        line = [lemmatizer.lemmatize(words)\n",
        "                for words in line\n",
        "                 if words not in stopwords.words(\"english\")]\n",
        "        \n",
        "        line = \" \".join(line)\n",
        "        corpus.append(line)\n",
        "    \n",
        "    # one-hot vectorize\n",
        "    one_hot_doc = [one_hot(input_text=words, n=vocab_size)\n",
        "                    for words in corpus]\n",
        "    \n",
        "    # word embedding\n",
        "    emb_doc = pad_sequences(sequences=one_hot_doc, maxlen=sentence_len, padding='pre')\n",
        "\n",
        "    return emb_doc"
      ],
      "execution_count": null,
      "outputs": []
    },
    {
      "cell_type": "markdown",
      "metadata": {
        "id": "8O2ltq4VwAAl"
      },
      "source": [
        "#### feature, target 분리"
      ]
    },
    {
      "cell_type": "code",
      "metadata": {
        "id": "YpvdECDGvJoB"
      },
      "source": [
        "# stemmed text\n",
        "X_train_st = data_stem(train, 'text')\n",
        "X_val_st = data_stem(val, 'text')\n",
        "X_test_st = data_stem(test, 'text')\n",
        "\n",
        "# lemmatized text\n",
        "X_train_le = data_lemma(train, 'text')\n",
        "X_val_le = data_lemma(val, 'text')\n",
        "X_test_le = data_lemma(test, 'text')\n",
        "\n",
        "# target\n",
        "y_train = train['sentiment']\n",
        "y_val = val['sentiment']\n",
        "y_test = test['sentiment']"
      ],
      "execution_count": null,
      "outputs": []
    },
    {
      "cell_type": "markdown",
      "metadata": {
        "id": "vFrDiMDONUdD"
      },
      "source": [
        "#### Baseline Model\n",
        "\n",
        "다중분류 모델이므로 target 감정 중 가장 다수인 `Joy`만으로 예측하는 모델을 Baseline model로 선정 후 그 정확도를 모델의 최소 성능으로 설정함"
      ]
    },
    {
      "cell_type": "code",
      "metadata": {
        "id": "jSXPF_nDQLop"
      },
      "source": [
        "from sklearn.metrics import accuracy_score, confusion_matrix"
      ],
      "execution_count": null,
      "outputs": []
    },
    {
      "cell_type": "code",
      "metadata": {
        "colab": {
          "base_uri": "https://localhost:8080/"
        },
        "id": "5p0z7usCNXVx",
        "outputId": "1df75c7d-62e9-4ba7-f0c1-38df6d8250ad"
      },
      "source": [
        "major = y_train.mode()[0]\n",
        "\n",
        "baseline_pred = [major] * len(y_train)\n",
        "\n",
        "print(f'baseline accuracy: {accuracy_score(y_train, baseline_pred) * 100 :.2f}%')"
      ],
      "execution_count": null,
      "outputs": [
        {
          "output_type": "stream",
          "name": "stdout",
          "text": [
            "baseline accuracy: 33.51%\n"
          ]
        }
      ]
    },
    {
      "cell_type": "markdown",
      "metadata": {
        "id": "FwOtvO4Wu0Hf"
      },
      "source": [
        "#### Build Model"
      ]
    },
    {
      "cell_type": "code",
      "metadata": {
        "id": "YD_h8L9PlHYk"
      },
      "source": [
        "from tensorflow.keras.models import Sequential\n",
        "from tensorflow.keras.layers import Embedding\n",
        "from tensorflow.keras.layers import LSTM\n",
        "from tensorflow.keras.layers import Dense\n",
        "from tensorflow.keras.layers import Dropout\n",
        "from tensorflow.keras.optimizers import Adam"
      ],
      "execution_count": null,
      "outputs": []
    },
    {
      "cell_type": "code",
      "metadata": {
        "id": "6y0WPncNno5r"
      },
      "source": [
        "# with random search - hypertuning\n",
        "def build_model(hp):\n",
        "    model = Sequential()\n",
        "\n",
        "    model.add(Embedding(input_dim=vocab_size,\n",
        "                        output_dim=hp.Int('output_dim', min_value=50, max_value=100, step=10),\n",
        "                        input_length=sentence_len))\n",
        "    \n",
        "    model.add(LSTM(128))\n",
        "\n",
        "    # hypertuning layers\n",
        "    for i in range(hp.Int('Dense Layers', min_value=1, max_value=5, step=1)): \n",
        "        model.add(Dense(hp.Int('units_' + str(i), min_value=64, max_value=256, step=32),\n",
        "                        activation='relu',\n",
        "                        kernel_initializer=hp.Choice('kernal_init_' + str(i), values=['he_uniform', 'he_normal'])))\n",
        "        \n",
        "        model.add(Dropout(rate=hp.Float('drop_rate_' + str(i), min_value=0.3, max_value=0.5, step=0.1)))\n",
        "        \n",
        "\n",
        "    model.add(Dense(6, activation='softmax')) # multiple classification\n",
        "\n",
        "    model.compile(optimizer=Adam(learning_rate=hp.Choice(\"learning_rate\", values=[0.0001, 0.004, 0.01])), \n",
        "                  loss='sparse_categorical_crossentropy', \n",
        "                  metrics=['accuracy'])\n",
        "    \n",
        "    return model"
      ],
      "execution_count": null,
      "outputs": []
    },
    {
      "cell_type": "markdown",
      "metadata": {
        "id": "zlwf3nGuuxcT"
      },
      "source": [
        "#### Set tuner"
      ]
    },
    {
      "cell_type": "code",
      "metadata": {
        "colab": {
          "base_uri": "https://localhost:8080/"
        },
        "id": "bK-yE_APtVYE",
        "outputId": "871405fd-f845-41f9-9e2c-3349b10c80f1"
      },
      "source": [
        "pip install keras-tuner"
      ],
      "execution_count": null,
      "outputs": [
        {
          "output_type": "stream",
          "name": "stdout",
          "text": [
            "Requirement already satisfied: keras-tuner in /usr/local/lib/python3.7/dist-packages (1.1.0)\n",
            "Requirement already satisfied: requests in /usr/local/lib/python3.7/dist-packages (from keras-tuner) (2.23.0)\n",
            "Requirement already satisfied: packaging in /usr/local/lib/python3.7/dist-packages (from keras-tuner) (21.0)\n",
            "Requirement already satisfied: scipy in /usr/local/lib/python3.7/dist-packages (from keras-tuner) (1.4.1)\n",
            "Requirement already satisfied: kt-legacy in /usr/local/lib/python3.7/dist-packages (from keras-tuner) (1.0.4)\n",
            "Requirement already satisfied: tensorboard in /usr/local/lib/python3.7/dist-packages (from keras-tuner) (2.6.0)\n",
            "Requirement already satisfied: ipython in /usr/local/lib/python3.7/dist-packages (from keras-tuner) (5.5.0)\n",
            "Requirement already satisfied: numpy in /usr/local/lib/python3.7/dist-packages (from keras-tuner) (1.19.5)\n",
            "Requirement already satisfied: pygments in /usr/local/lib/python3.7/dist-packages (from ipython->keras-tuner) (2.6.1)\n",
            "Requirement already satisfied: simplegeneric>0.8 in /usr/local/lib/python3.7/dist-packages (from ipython->keras-tuner) (0.8.1)\n",
            "Requirement already satisfied: pickleshare in /usr/local/lib/python3.7/dist-packages (from ipython->keras-tuner) (0.7.5)\n",
            "Requirement already satisfied: setuptools>=18.5 in /usr/local/lib/python3.7/dist-packages (from ipython->keras-tuner) (57.4.0)\n",
            "Requirement already satisfied: pexpect in /usr/local/lib/python3.7/dist-packages (from ipython->keras-tuner) (4.8.0)\n",
            "Requirement already satisfied: prompt-toolkit<2.0.0,>=1.0.4 in /usr/local/lib/python3.7/dist-packages (from ipython->keras-tuner) (1.0.18)\n",
            "Requirement already satisfied: decorator in /usr/local/lib/python3.7/dist-packages (from ipython->keras-tuner) (4.4.2)\n",
            "Requirement already satisfied: traitlets>=4.2 in /usr/local/lib/python3.7/dist-packages (from ipython->keras-tuner) (5.1.0)\n",
            "Requirement already satisfied: six>=1.9.0 in /usr/local/lib/python3.7/dist-packages (from prompt-toolkit<2.0.0,>=1.0.4->ipython->keras-tuner) (1.15.0)\n",
            "Requirement already satisfied: wcwidth in /usr/local/lib/python3.7/dist-packages (from prompt-toolkit<2.0.0,>=1.0.4->ipython->keras-tuner) (0.2.5)\n",
            "Requirement already satisfied: pyparsing>=2.0.2 in /usr/local/lib/python3.7/dist-packages (from packaging->keras-tuner) (2.4.7)\n",
            "Requirement already satisfied: ptyprocess>=0.5 in /usr/local/lib/python3.7/dist-packages (from pexpect->ipython->keras-tuner) (0.7.0)\n",
            "Requirement already satisfied: urllib3!=1.25.0,!=1.25.1,<1.26,>=1.21.1 in /usr/local/lib/python3.7/dist-packages (from requests->keras-tuner) (1.24.3)\n",
            "Requirement already satisfied: certifi>=2017.4.17 in /usr/local/lib/python3.7/dist-packages (from requests->keras-tuner) (2021.5.30)\n",
            "Requirement already satisfied: idna<3,>=2.5 in /usr/local/lib/python3.7/dist-packages (from requests->keras-tuner) (2.10)\n",
            "Requirement already satisfied: chardet<4,>=3.0.2 in /usr/local/lib/python3.7/dist-packages (from requests->keras-tuner) (3.0.4)\n",
            "Requirement already satisfied: werkzeug>=0.11.15 in /usr/local/lib/python3.7/dist-packages (from tensorboard->keras-tuner) (1.0.1)\n",
            "Requirement already satisfied: tensorboard-data-server<0.7.0,>=0.6.0 in /usr/local/lib/python3.7/dist-packages (from tensorboard->keras-tuner) (0.6.1)\n",
            "Requirement already satisfied: markdown>=2.6.8 in /usr/local/lib/python3.7/dist-packages (from tensorboard->keras-tuner) (3.3.4)\n",
            "Requirement already satisfied: protobuf>=3.6.0 in /usr/local/lib/python3.7/dist-packages (from tensorboard->keras-tuner) (3.17.3)\n",
            "Requirement already satisfied: google-auth-oauthlib<0.5,>=0.4.1 in /usr/local/lib/python3.7/dist-packages (from tensorboard->keras-tuner) (0.4.6)\n",
            "Requirement already satisfied: grpcio>=1.24.3 in /usr/local/lib/python3.7/dist-packages (from tensorboard->keras-tuner) (1.41.0)\n",
            "Requirement already satisfied: tensorboard-plugin-wit>=1.6.0 in /usr/local/lib/python3.7/dist-packages (from tensorboard->keras-tuner) (1.8.0)\n",
            "Requirement already satisfied: wheel>=0.26 in /usr/local/lib/python3.7/dist-packages (from tensorboard->keras-tuner) (0.37.0)\n",
            "Requirement already satisfied: google-auth<2,>=1.6.3 in /usr/local/lib/python3.7/dist-packages (from tensorboard->keras-tuner) (1.35.0)\n",
            "Requirement already satisfied: absl-py>=0.4 in /usr/local/lib/python3.7/dist-packages (from tensorboard->keras-tuner) (0.12.0)\n",
            "Requirement already satisfied: rsa<5,>=3.1.4 in /usr/local/lib/python3.7/dist-packages (from google-auth<2,>=1.6.3->tensorboard->keras-tuner) (4.7.2)\n",
            "Requirement already satisfied: cachetools<5.0,>=2.0.0 in /usr/local/lib/python3.7/dist-packages (from google-auth<2,>=1.6.3->tensorboard->keras-tuner) (4.2.4)\n",
            "Requirement already satisfied: pyasn1-modules>=0.2.1 in /usr/local/lib/python3.7/dist-packages (from google-auth<2,>=1.6.3->tensorboard->keras-tuner) (0.2.8)\n",
            "Requirement already satisfied: requests-oauthlib>=0.7.0 in /usr/local/lib/python3.7/dist-packages (from google-auth-oauthlib<0.5,>=0.4.1->tensorboard->keras-tuner) (1.3.0)\n",
            "Requirement already satisfied: importlib-metadata in /usr/local/lib/python3.7/dist-packages (from markdown>=2.6.8->tensorboard->keras-tuner) (4.8.1)\n",
            "Requirement already satisfied: pyasn1<0.5.0,>=0.4.6 in /usr/local/lib/python3.7/dist-packages (from pyasn1-modules>=0.2.1->google-auth<2,>=1.6.3->tensorboard->keras-tuner) (0.4.8)\n",
            "Requirement already satisfied: oauthlib>=3.0.0 in /usr/local/lib/python3.7/dist-packages (from requests-oauthlib>=0.7.0->google-auth-oauthlib<0.5,>=0.4.1->tensorboard->keras-tuner) (3.1.1)\n",
            "Requirement already satisfied: typing-extensions>=3.6.4 in /usr/local/lib/python3.7/dist-packages (from importlib-metadata->markdown>=2.6.8->tensorboard->keras-tuner) (3.7.4.3)\n",
            "Requirement already satisfied: zipp>=0.5 in /usr/local/lib/python3.7/dist-packages (from importlib-metadata->markdown>=2.6.8->tensorboard->keras-tuner) (3.6.0)\n"
          ]
        }
      ]
    },
    {
      "cell_type": "code",
      "metadata": {
        "id": "TCvY4X_NsQqq"
      },
      "source": [
        "import keras_tuner\n",
        "from keras_tuner.tuners import RandomSearch"
      ],
      "execution_count": null,
      "outputs": []
    },
    {
      "cell_type": "markdown",
      "metadata": {
        "id": "CANLN8wowG4U"
      },
      "source": [
        "#### Compare `stemmed ver` vs. `lemmatized ver`"
      ]
    },
    {
      "cell_type": "code",
      "metadata": {
        "id": "601yL-BwtvGE"
      },
      "source": [
        "tuner_st = RandomSearch(\n",
        "    build_model,\n",
        "    objective='val_accuracy',\n",
        "    max_trials=3,\n",
        "    executions_per_trial=2,\n",
        "    directory='emoticonNLP', # save RandomSearch result \n",
        "    project_name='hypertuning_st'\n",
        ")"
      ],
      "execution_count": null,
      "outputs": []
    },
    {
      "cell_type": "code",
      "metadata": {
        "colab": {
          "base_uri": "https://localhost:8080/"
        },
        "id": "IZcfFwSdwDAK",
        "outputId": "f2fb15c9-8761-4459-95a6-a8dcdbac5615"
      },
      "source": [
        "# stemmed\n",
        "tuner_st.search(X_train_st, y_train,\n",
        "             validation_data=(X_val_st, y_val),\n",
        "             epochs=3)"
      ],
      "execution_count": null,
      "outputs": [
        {
          "output_type": "stream",
          "name": "stdout",
          "text": [
            "Trial 3 Complete [00h 02m 30s]\n",
            "val_accuracy: 0.8869999945163727\n",
            "\n",
            "Best val_accuracy So Far: 0.8920000195503235\n",
            "Total elapsed time: 00h 07m 36s\n",
            "INFO:tensorflow:Oracle triggered exit\n"
          ]
        }
      ]
    },
    {
      "cell_type": "code",
      "metadata": {
        "id": "J9vPgSlP8ZYD"
      },
      "source": [
        "model_st = tuner_st.get_best_models(num_models=1)[0]"
      ],
      "execution_count": null,
      "outputs": []
    },
    {
      "cell_type": "code",
      "metadata": {
        "id": "ULXYasbD8kIF",
        "colab": {
          "base_uri": "https://localhost:8080/"
        },
        "outputId": "178c7613-dd99-4863-bde2-b1f250a569fa"
      },
      "source": [
        "model_st.summary()"
      ],
      "execution_count": null,
      "outputs": [
        {
          "output_type": "stream",
          "name": "stdout",
          "text": [
            "Model: \"sequential\"\n",
            "_________________________________________________________________\n",
            "Layer (type)                 Output Shape              Param #   \n",
            "=================================================================\n",
            "embedding (Embedding)        (None, 150, 50)           500000    \n",
            "_________________________________________________________________\n",
            "lstm (LSTM)                  (None, 128)               91648     \n",
            "_________________________________________________________________\n",
            "dense (Dense)                (None, 128)               16512     \n",
            "_________________________________________________________________\n",
            "dropout (Dropout)            (None, 128)               0         \n",
            "_________________________________________________________________\n",
            "dense_1 (Dense)              (None, 64)                8256      \n",
            "_________________________________________________________________\n",
            "dropout_1 (Dropout)          (None, 64)                0         \n",
            "_________________________________________________________________\n",
            "dense_2 (Dense)              (None, 6)                 390       \n",
            "=================================================================\n",
            "Total params: 616,806\n",
            "Trainable params: 616,806\n",
            "Non-trainable params: 0\n",
            "_________________________________________________________________\n"
          ]
        }
      ]
    },
    {
      "cell_type": "code",
      "metadata": {
        "id": "8ig0sAig_ayy"
      },
      "source": [
        "tuner_le = RandomSearch(\n",
        "    build_model,\n",
        "    objective='val_accuracy',\n",
        "    max_trials=3,\n",
        "    executions_per_trial=2,\n",
        "    directory='emoticonNLP', # save RandomSearch result \n",
        "    project_name='hypertuning_le'\n",
        ")"
      ],
      "execution_count": null,
      "outputs": []
    },
    {
      "cell_type": "code",
      "metadata": {
        "id": "jxxWRjLb7GZM",
        "colab": {
          "base_uri": "https://localhost:8080/"
        },
        "outputId": "d4dd0cf3-77c4-4934-d546-417666e6c19f"
      },
      "source": [
        "# lemmatized\n",
        "tuner_le.search(X_train_le, y_train,\n",
        "             validation_data=(X_val_le, y_val),\n",
        "             epochs=3)"
      ],
      "execution_count": null,
      "outputs": [
        {
          "output_type": "stream",
          "name": "stdout",
          "text": [
            "Trial 3 Complete [00h 02m 37s]\n",
            "val_accuracy: 0.8937499821186066\n",
            "\n",
            "Best val_accuracy So Far: 0.8937499821186066\n",
            "Total elapsed time: 00h 07m 55s\n",
            "INFO:tensorflow:Oracle triggered exit\n"
          ]
        }
      ]
    },
    {
      "cell_type": "code",
      "metadata": {
        "id": "yBEddb8U8d7U"
      },
      "source": [
        "model_le = tuner_le.get_best_models(num_models=1)[0]"
      ],
      "execution_count": null,
      "outputs": []
    },
    {
      "cell_type": "code",
      "metadata": {
        "id": "J5vvirvx8lym",
        "colab": {
          "base_uri": "https://localhost:8080/"
        },
        "outputId": "2f597703-9058-4998-ca39-ac9ab15e9180"
      },
      "source": [
        "model_le.summary()"
      ],
      "execution_count": null,
      "outputs": [
        {
          "output_type": "stream",
          "name": "stdout",
          "text": [
            "Model: \"sequential\"\n",
            "_________________________________________________________________\n",
            "Layer (type)                 Output Shape              Param #   \n",
            "=================================================================\n",
            "embedding (Embedding)        (None, 150, 60)           600000    \n",
            "_________________________________________________________________\n",
            "lstm (LSTM)                  (None, 128)               96768     \n",
            "_________________________________________________________________\n",
            "dense (Dense)                (None, 256)               33024     \n",
            "_________________________________________________________________\n",
            "dropout (Dropout)            (None, 256)               0         \n",
            "_________________________________________________________________\n",
            "dense_1 (Dense)              (None, 6)                 1542      \n",
            "=================================================================\n",
            "Total params: 731,334\n",
            "Trainable params: 731,334\n",
            "Non-trainable params: 0\n",
            "_________________________________________________________________\n"
          ]
        }
      ]
    },
    {
      "cell_type": "markdown",
      "metadata": {
        "id": "gB1RcAzWFOEp"
      },
      "source": [
        "|Type | Stemming | Lemmatization |\n",
        "|:-----:|:--------:|:--------------:|\n",
        "| Val_Accuracy | 0.8920 | 0.8937 |\n",
        "\n",
        "<br/>\n",
        "\n",
        "**Lemmatization** has a higher `val_accuracy`\n",
        "\n",
        "-> `model_le`를 최종모델로 선정"
      ]
    },
    {
      "cell_type": "markdown",
      "metadata": {
        "id": "LeQBoomkKIji"
      },
      "source": [
        "#### Evaluate Model"
      ]
    },
    {
      "cell_type": "code",
      "metadata": {
        "id": "LhIZ3XrnGThf"
      },
      "source": [
        "predict_classes = model_le.predict(X_test_le)"
      ],
      "execution_count": null,
      "outputs": []
    },
    {
      "cell_type": "code",
      "metadata": {
        "id": "Ptbs4WkcHOB6"
      },
      "source": [
        "y_pred = [np.argmax(label) for label in predict_classes]"
      ],
      "execution_count": null,
      "outputs": []
    },
    {
      "cell_type": "code",
      "metadata": {
        "id": "rC_NXJ7VHbJo"
      },
      "source": [
        "predict=pd.DataFrame(\n",
        "    y_pred,\n",
        "    columns=[\"predicted\"]\n",
        ")"
      ],
      "execution_count": null,
      "outputs": []
    },
    {
      "cell_type": "code",
      "metadata": {
        "id": "zlocIAkVH-5z"
      },
      "source": [
        "num_to_sentiment = {\n",
        "    0 : 'anger',\n",
        "    1 : 'fear',\n",
        "    2 : 'sadness',\n",
        "    3 : 'surprise',\n",
        "    4 : 'joy',\n",
        "    5 : 'love'\n",
        "}"
      ],
      "execution_count": null,
      "outputs": []
    },
    {
      "cell_type": "code",
      "metadata": {
        "id": "9dbPjyRzHeuS"
      },
      "source": [
        "predict['predicted'] = predict['predicted'].map(num_to_sentiment)"
      ],
      "execution_count": null,
      "outputs": []
    },
    {
      "cell_type": "code",
      "metadata": {
        "id": "mYll3v5mOyGj"
      },
      "source": [
        "import copy\n",
        "pred = copy.deepcopy(test)"
      ],
      "execution_count": null,
      "outputs": []
    },
    {
      "cell_type": "code",
      "metadata": {
        "id": "6Pj3ZOCmJtog"
      },
      "source": [
        "pred['sentiment'] = pred['sentiment'].map(num_to_sentiment)"
      ],
      "execution_count": null,
      "outputs": []
    },
    {
      "cell_type": "code",
      "metadata": {
        "id": "3kvjh8xoIUo8"
      },
      "source": [
        "prediction = pd.concat([pred, predict], axis=1)"
      ],
      "execution_count": null,
      "outputs": []
    },
    {
      "cell_type": "code",
      "metadata": {
        "colab": {
          "base_uri": "https://localhost:8080/",
          "height": 355
        },
        "id": "3wGg1ZPGIniM",
        "outputId": "062c37f0-f1c0-4b69-f0d2-9fe446bae06d"
      },
      "source": [
        "prediction.sample(10)"
      ],
      "execution_count": null,
      "outputs": [
        {
          "output_type": "execute_result",
          "data": {
            "text/html": [
              "<div>\n",
              "<style scoped>\n",
              "    .dataframe tbody tr th:only-of-type {\n",
              "        vertical-align: middle;\n",
              "    }\n",
              "\n",
              "    .dataframe tbody tr th {\n",
              "        vertical-align: top;\n",
              "    }\n",
              "\n",
              "    .dataframe thead th {\n",
              "        text-align: right;\n",
              "    }\n",
              "</style>\n",
              "<table border=\"1\" class=\"dataframe\">\n",
              "  <thead>\n",
              "    <tr style=\"text-align: right;\">\n",
              "      <th></th>\n",
              "      <th>text</th>\n",
              "      <th>sentiment</th>\n",
              "      <th>predicted</th>\n",
              "    </tr>\n",
              "  </thead>\n",
              "  <tbody>\n",
              "    <tr>\n",
              "      <th>487</th>\n",
              "      <td>i kind of feel a little petty about this</td>\n",
              "      <td>anger</td>\n",
              "      <td>anger</td>\n",
              "    </tr>\n",
              "    <tr>\n",
              "      <th>1146</th>\n",
              "      <td>i feel affirmed gracious sensuous and will hav...</td>\n",
              "      <td>love</td>\n",
              "      <td>joy</td>\n",
              "    </tr>\n",
              "    <tr>\n",
              "      <th>1873</th>\n",
              "      <td>i entered the office though feeling the monday...</td>\n",
              "      <td>joy</td>\n",
              "      <td>joy</td>\n",
              "    </tr>\n",
              "    <tr>\n",
              "      <th>1073</th>\n",
              "      <td>i find it relaxes me and i feel productive mak...</td>\n",
              "      <td>joy</td>\n",
              "      <td>joy</td>\n",
              "    </tr>\n",
              "    <tr>\n",
              "      <th>1271</th>\n",
              "      <td>i feel more energetic</td>\n",
              "      <td>joy</td>\n",
              "      <td>joy</td>\n",
              "    </tr>\n",
              "    <tr>\n",
              "      <th>1783</th>\n",
              "      <td>i started to feel like i was going mad as i wa...</td>\n",
              "      <td>anger</td>\n",
              "      <td>anger</td>\n",
              "    </tr>\n",
              "    <tr>\n",
              "      <th>636</th>\n",
              "      <td>i feel so fearless in these post grieving days</td>\n",
              "      <td>joy</td>\n",
              "      <td>joy</td>\n",
              "    </tr>\n",
              "    <tr>\n",
              "      <th>21</th>\n",
              "      <td>i feel like ive gotten to know many of you thr...</td>\n",
              "      <td>joy</td>\n",
              "      <td>joy</td>\n",
              "    </tr>\n",
              "    <tr>\n",
              "      <th>1395</th>\n",
              "      <td>i sure would love to stop feeling so horny all...</td>\n",
              "      <td>love</td>\n",
              "      <td>love</td>\n",
              "    </tr>\n",
              "    <tr>\n",
              "      <th>1855</th>\n",
              "      <td>i really need to find my nitch up here in vt i...</td>\n",
              "      <td>sadness</td>\n",
              "      <td>sadness</td>\n",
              "    </tr>\n",
              "  </tbody>\n",
              "</table>\n",
              "</div>"
            ],
            "text/plain": [
              "                                                   text sentiment predicted\n",
              "487            i kind of feel a little petty about this     anger     anger\n",
              "1146  i feel affirmed gracious sensuous and will hav...      love       joy\n",
              "1873  i entered the office though feeling the monday...       joy       joy\n",
              "1073  i find it relaxes me and i feel productive mak...       joy       joy\n",
              "1271                              i feel more energetic       joy       joy\n",
              "1783  i started to feel like i was going mad as i wa...     anger     anger\n",
              "636      i feel so fearless in these post grieving days       joy       joy\n",
              "21    i feel like ive gotten to know many of you thr...       joy       joy\n",
              "1395  i sure would love to stop feeling so horny all...      love      love\n",
              "1855  i really need to find my nitch up here in vt i...   sadness   sadness"
            ]
          },
          "metadata": {},
          "execution_count": 91
        }
      ]
    },
    {
      "cell_type": "code",
      "metadata": {
        "id": "znkUjUxEKHRd"
      },
      "source": [
        "test_score = accuracy_score(y_test, y_pred)\n",
        "con_matrix = confusion_matrix(y_test, y_pred)"
      ],
      "execution_count": null,
      "outputs": []
    },
    {
      "cell_type": "code",
      "metadata": {
        "colab": {
          "base_uri": "https://localhost:8080/"
        },
        "id": "3Z35STR_QNHP",
        "outputId": "f2e3f7a3-1c50-411e-f911-52ba027595fd"
      },
      "source": [
        "print(f'Test Accuracy Score: {test_score * 100:.2f}%')"
      ],
      "execution_count": null,
      "outputs": [
        {
          "output_type": "stream",
          "name": "stdout",
          "text": [
            "Test Accuracy Score: 89.80%\n"
          ]
        }
      ]
    },
    {
      "cell_type": "markdown",
      "metadata": {
        "id": "dnYujw9YJ9lo"
      },
      "source": [
        "test data로 분석해본 결과, 꽤 좋은 정확도(89.80%) 보여줌\n",
        "\n",
        "-> baseline model accuracy가 **33.51%**라는 점을 고려한다면 모델의 성능이 chance level을 넘을만큼 높다는 것을 알 수 있음"
      ]
    },
    {
      "cell_type": "code",
      "metadata": {
        "colab": {
          "base_uri": "https://localhost:8080/",
          "height": 406
        },
        "id": "UuH5FzNwQg_Y",
        "outputId": "ea327c70-0e09-403a-e3e6-da07c8447fd9"
      },
      "source": [
        "labels=[\"anger\",\"fear\",\"sadness\",\"surprise\",\"joy\",\"love\"]\n",
        "fig=plt.figure(figsize=(10,6))\n",
        "sns.heatmap(con_matrix,\n",
        "            annot=True,\n",
        "            fmt=\"d\",\n",
        "            xticklabels=labels,\n",
        "            yticklabels=labels,\n",
        "            cmap=\"Set3\",\n",
        "            linewidths=0.5\n",
        "           )\n",
        "plt.title(\"Visualized Confusion Matrix\")\n",
        "plt.yticks(rotation=0)\n",
        "plt.show()\n",
        "plt.savefig('confusion_matrix.png', dpi=100)"
      ],
      "execution_count": null,
      "outputs": [
        {
          "output_type": "display_data",
          "data": {
            "image/png": "[encoded data removed]",
            "text/plain": [
              "<Figure size 720x432 with 2 Axes>"
            ]
          },
          "metadata": {
            "needs_background": "light"
          }
        },
        {
          "output_type": "display_data",
          "data": {
            "text/plain": [
              "<Figure size 432x288 with 0 Axes>"
            ]
          },
          "metadata": {}
        }
      ]
    },
    {
      "cell_type": "markdown",
      "metadata": {
        "id": "-eOnORe6TBpx"
      },
      "source": [
        "### 3️⃣ 모델 성능 검증 - 새로운 데이터 분석해보기"
      ]
    },
    {
      "cell_type": "code",
      "metadata": {
        "colab": {
          "base_uri": "https://localhost:8080/"
        },
        "id": "qJhRsnsjW7ol",
        "outputId": "61627963-f8a3-4d98-c4f9-4f922c1701cd"
      },
      "source": [
        "import random\n",
        "nltk.download('punkt')"
      ],
      "execution_count": null,
      "outputs": [
        {
          "output_type": "stream",
          "name": "stdout",
          "text": [
            "[nltk_data] Downloading package punkt to /root/nltk_data...\n",
            "[nltk_data]   Unzipping tokenizers/punkt.zip.\n"
          ]
        },
        {
          "output_type": "execute_result",
          "data": {
            "text/plain": [
              "True"
            ]
          },
          "metadata": {},
          "execution_count": 116
        }
      ]
    },
    {
      "cell_type": "code",
      "metadata": {
        "id": "Orolsr3dTLh6"
      },
      "source": [
        "def emoji_classifier(model, text):\n",
        "\n",
        "    for sentences in text:\n",
        "        sentences = nltk.sent_tokenize(text) # 문장들을 한 문장씩 분리\n",
        "\n",
        "        for sentence in sentences:\n",
        "            words = re.sub(\"[^a-zA-Z0-9]\", \" \", sentence) #영소문자, 영대문자, 숫자만 받아들이기\n",
        "\n",
        "            if words not in stopwords.words(\"english\"):\n",
        "                words = words.lower()\n",
        "                word = nltk.word_tokenize(words) # 불용어 사전에 포함되는 단어 제외하고 단어별로 tokenize\n",
        "                word = \" \".join(word)\n",
        "    \n",
        "    one_hot_doc = [one_hot(word, n=vocab_size)] # one hot vectorize\n",
        "\n",
        "    emb_doc = pad_sequences(one_hot_doc, maxlen=sentence_len, padding=\"pre\") # word embedding\n",
        "\n",
        "    predict_class = model.predict(emb_doc) # predict class of words\n",
        "\n",
        "    # emoji list\n",
        "    anger = [\"\\U0001F624\", \"\\U0001F621\", \"\\U0001F620\", \"\\U0001F92C\", \"\\U0001F47F\", \"\\U0001F480\", \"\\U0001F63E\"]\n",
        "    fear = [\"\\U0001F976\", \"\\U0001F635\", \"\\U0001F628\", \"\\U0001F630\", \"\\U0001F631\", \"\\U0001F616\", \"\\U0001F62B\"]\n",
        "    sadness = [u\"\\U0001F972\", \"\\U0001F641\", \"\\U0001F97A\", \"\\U0001F625\", \"\\U0001F622\", \"\\U0001F62D\", \"\\U0001F63F\"]\n",
        "    surprise = [\"\\U0001F92D\", \"\\U0001F644\", \"\\U0001F635\", \"\\U0001F92F\", \"\\U0001F62E\", \"\\U0001F633\", \"\\U0001F627\"]\n",
        "    joy = [\"\\U0001F600\", \"\\U0001F606\", \"\\U0001F923\", \"\\U0001F60A\", \"\\U0001F63A\", \"\\U0001F917\", \"\\U0001F973\", \"\\U0001F638\", \"\\U0001F44D\", \"\\U0001F44F\"]\n",
        "    love = [\"\\U0001F970\", \"\\U0001F60D\", \"\\U0001F618\", \"\\U0001F63B\", \"\\U0001F498\", \"\\U0001F496\", \"\\U0001F495\", \"\\U0001F9E1\", \"\\U0001F49C\", \"\\U0001F49B\", \"\\U0001F499\"]\n",
        "\n",
        "    # predicted class -> class에 따른 emoji 2개 random으로 추천해줌\n",
        "    y_pred = [np.argmax(label) for label in predict_class] \n",
        "\n",
        "    if y_pred == [0]:\n",
        "        print('Predicted Sentiment is \\\"ANGER\\\"')\n",
        "        print(f'Suggested emoji: {random.sample(anger, 2)}')\n",
        "    \n",
        "    elif y_pred == [1]:\n",
        "        print('Predicted Sentiment is \\\"FEAR\\\"')\n",
        "        print(f'Suggested emoji: {random.sample(fear, 2)}')\n",
        "    \n",
        "    elif y_pred == [2]:\n",
        "        print('Predicted Sentiment is \\\"SADNESS\\\"')\n",
        "        print(f'Suggested emoji: {random.sample(sadness, 2)}')\n",
        "    \n",
        "    elif y_pred == [3]:\n",
        "        print('Predicted Sentiment is \\\"SURPRISE\\\"')\n",
        "        print(f'Suggested emoji: {random.sample(surprise, 2)}')\n",
        "\n",
        "    elif y_pred == [4]:\n",
        "        print('Predicted Sentiment is \\\"JOY\\\"')\n",
        "        print(f'Suggested emoji: {random.sample(joy, 2)}')\n",
        "    \n",
        "    elif y_pred == [5]:\n",
        "        print('Predicted Sentiment is \\\"LOVE\\\"')\n",
        "        print(f'Suggested emoji: {random.sample(love, 2)}')"
      ],
      "execution_count": null,
      "outputs": []
    },
    {
      "cell_type": "code",
      "metadata": {
        "colab": {
          "base_uri": "https://localhost:8080/"
        },
        "id": "D5Da8-W1cmHn",
        "outputId": "4e975813-ab1a-498f-adb6-cdbfc819133a"
      },
      "source": [
        "emotion1 = \"I have tried several times to get back with you, but this aint working with us.\"\n",
        "\n",
        "emoji_classifier(model_le, emotion1)"
      ],
      "execution_count": null,
      "outputs": [
        {
          "output_type": "stream",
          "name": "stdout",
          "text": [
            "Predicted Sentiment is \"ANGER\"\n",
            "Suggested emoji: ['😤', '👿']\n"
          ]
        }
      ]
    },
    {
      "cell_type": "code",
      "metadata": {
        "colab": {
          "base_uri": "https://localhost:8080/"
        },
        "id": "zZn3cVFvf5fQ",
        "outputId": "514b0dac-621a-4a92-f026-73ce90b9068f"
      },
      "source": [
        "emotion2 = \"Thank God! I feel so grateful to have you.\"\n",
        "\n",
        "emoji_classifier(model_le, emotion2)"
      ],
      "execution_count": null,
      "outputs": [
        {
          "output_type": "stream",
          "name": "stdout",
          "text": [
            "Predicted Sentiment is \"SURPRISE\"\n",
            "Suggested emoji: ['😳', '😧']\n"
          ]
        }
      ]
    },
    {
      "cell_type": "code",
      "metadata": {
        "colab": {
          "base_uri": "https://localhost:8080/"
        },
        "id": "YqUQyacag2wa",
        "outputId": "f58ccc98-f347-4c7d-d691-f61b6944478d"
      },
      "source": [
        "emotion3 = \"oh my god! What the heck is that!\"\n",
        "\n",
        "emoji_classifier(model_le, emotion3)"
      ],
      "execution_count": null,
      "outputs": [
        {
          "output_type": "stream",
          "name": "stdout",
          "text": [
            "Predicted Sentiment is \"ANGER\"\n",
            "Suggested emoji: ['😡', '💀']\n"
          ]
        }
      ]
    },
    {
      "cell_type": "code",
      "metadata": {
        "colab": {
          "base_uri": "https://localhost:8080/"
        },
        "id": "_AQVqqQdhNax",
        "outputId": "82ebb6d1-53ab-4a20-a7f8-f4402f55986a"
      },
      "source": [
        "emotion4 = \"I feel so good right now!\"\n",
        "\n",
        "emoji_classifier(model_le, emotion4)"
      ],
      "execution_count": null,
      "outputs": [
        {
          "output_type": "stream",
          "name": "stdout",
          "text": [
            "Predicted Sentiment is \"JOY\"\n",
            "Suggested emoji: ['😀', '🥳']\n"
          ]
        }
      ]
    },
    {
      "cell_type": "markdown",
      "metadata": {
        "id": "PsOI-Y8IiNpQ"
      },
      "source": [
        "### 4️⃣ 한계점 보완 및 발전방향 제시"
      ]
    },
    {
      "cell_type": "markdown",
      "metadata": {
        "id": "htm_ltFniXhK"
      },
      "source": [
        "#### 한계점 1: 뉘앙스 파악의 어려움"
      ]
    },
    {
      "cell_type": "code",
      "metadata": {
        "colab": {
          "base_uri": "https://localhost:8080/"
        },
        "id": "CmSkuUh5kgCQ",
        "outputId": "dc5d6fef-6a52-4097-eb19-d9635ff09acd"
      },
      "source": [
        "emotion5 = \"oh my god! Thank you so much!\"\n",
        "\n",
        "emoji_classifier(model_le, emotion5)"
      ],
      "execution_count": null,
      "outputs": [
        {
          "output_type": "stream",
          "name": "stdout",
          "text": [
            "Predicted Sentiment is \"FEAR\"\n",
            "Suggested emoji: ['😵', '😫']\n"
          ]
        }
      ]
    },
    {
      "cell_type": "markdown",
      "metadata": {
        "id": "dc0uNiydk5Qf"
      },
      "source": [
        "똑같은 단어가 들어가면, 맥락이 달라도 비슷한 뜻으로 해석함\n",
        "\n",
        "-> emotion3에서는 oh my god이 부정적인 뉘앙스이나, emotion5에서는 oh my god이 긍정적인 뉘앙스로 사용 \n",
        "\n",
        "=> BUT, 모델은 모두 부정적으로 인식함"
      ]
    },
    {
      "cell_type": "markdown",
      "metadata": {
        "id": "tnCqX-Nsly_Y"
      },
      "source": [
        "#### 한계점 2: 엉뚱한 판단"
      ]
    },
    {
      "cell_type": "code",
      "metadata": {
        "colab": {
          "base_uri": "https://localhost:8080/"
        },
        "id": "xQ5Bw-uYlMQ-",
        "outputId": "a62af953-3cdd-41b3-a8de-fc8d161ac204"
      },
      "source": [
        "emotion6 = \"Hi! Nice to meet you\"\n",
        "\n",
        "emoji_classifier(model_le, emotion6)"
      ],
      "execution_count": null,
      "outputs": [
        {
          "output_type": "stream",
          "name": "stdout",
          "text": [
            "Predicted Sentiment is \"ANGER\"\n",
            "Suggested emoji: ['😠', '😡']\n"
          ]
        }
      ]
    },
    {
      "cell_type": "markdown",
      "metadata": {
        "id": "gvUTTX3Wl4uy"
      },
      "source": [
        "때로는 아주 말도안되는 예측 결과가 나오기도 함\n",
        "\n",
        "-> 일반적으로 보기에는 `JOY`, `LOVE`가 나와야 할 것 같은데, `ANGER`로 예측됨"
      ]
    },
    {
      "cell_type": "markdown",
      "metadata": {
        "id": "KV8IUGa-mSy6"
      },
      "source": [
        "-----\n",
        "\n",
        "#### 보완방법\n",
        "\n",
        "<br/>\n",
        "\n",
        "> **학습량 늘리기**\n",
        "\n",
        "현재 모델의 경우 총 학습 epoch가 3으로 매우 적은 수준 \n",
        "\n",
        "-> 학습량을 증가하여 모델의 성능이 올라가는지 확인\n",
        "\n",
        "<br/>\n",
        "\n",
        "> **새로운 모델 선정**\n",
        "\n",
        "현재 사용한 모델은 LSTM으로 Transformer를 사용한 BERT와 같은 모델에 비해 속도, 성능면에서 부족한 부분 있음 \n",
        "\n",
        "-> 새로운 모델로 학습 진행하여 최적화 시도\n",
        "\n",
        "<br/>\n",
        "\n",
        "> **다중분류(multiple classification) -> 이진분류(binary classification)**\n",
        "\n",
        "일반적으로 다중분류에 비해 이진분류가 모델이 예측하기 쉬워 비교적 성능이 더 좋기 때문에, 성능을 높이기 위한 목적이라면 이진분류로 문제를 변경하는 것도 하나의 방법 (e.g. 긍정 vs. 부정)"
      ]
    },
    {
      "cell_type": "markdown",
      "metadata": {
        "id": "ebfcct0Ppe_v"
      },
      "source": [
        "-----\n",
        "\n",
        "#### 발전 방향\n",
        "\n",
        "<br/>\n",
        "\n",
        "> **여러 언어 지원**\n",
        "\n",
        "영어 뿐만 아니라 다른 언어(한국어 etc) 지원시 더 범용적으로 활용할 수 있음\n",
        "\n",
        "<br/>\n",
        "\n",
        "> **메신저 앱 적용**\n",
        "\n",
        "기본 이모지 외에 카카오톡과 같은 메신저 앱에서 제공하는 이모티콘도 함께 추천하는 방향으로 발전\n",
        "\n",
        "<br/>\n",
        "\n",
        "> **실시간 추천**\n",
        "\n",
        "단순히 리스트에 있는 이모지 중 랜덤으로 추천하는 것을 넘어, 같은 감정의 글을 쓴 사람들이 현재 많이 사용하는 이모지를 제시하는 방향 -> 트랜드 파악 가능"
      ]
    }
  ]
}